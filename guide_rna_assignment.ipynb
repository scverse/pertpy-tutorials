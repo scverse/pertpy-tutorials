{
 "cells": [
  {
   "cell_type": "markdown",
   "id": "2874698a-20c9-470d-a389-e39aa86f0b20",
   "metadata": {},
   "source": [
    "# Guide RNA assignment\n",
    "\n",
    "Assigning relevant guides to each cell is essential for quality control in perturbation assays, ensuring that the observed cellular responses are accurately linked to the intended genetic modifications. \n",
    "This step is critical for validating the experimental design and interpreting results reliably, thereby maintaining the integrity and reproducibility of the research.\n",
    "Here, we demonstrate how to visualize guide RNAs in a perturbation assay and how to assign relevant guides to each cell."
   ]
  },
  {
   "cell_type": "markdown",
   "id": "fee28bce",
   "metadata": {},
   "source": [
    "## Setup"
   ]
  },
  {
   "cell_type": "code",
   "execution_count": 2,
   "id": "4fe1de44-cef1-45fa-8213-4455c8ae1875",
   "metadata": {
    "tags": []
   },
   "outputs": [
    {
     "data": {
      "text/html": [
       "<pre style=\"white-space:pre;overflow-x:auto;line-height:normal;font-family:Menlo,'DejaVu Sans Mono',consolas,'Courier New',monospace\"><span style=\"color: #808000; text-decoration-color: #808000; font-weight: bold\">Installed version </span><span style=\"color: #808000; text-decoration-color: #808000; font-weight: bold\">0.4</span><span style=\"color: #808000; text-decoration-color: #808000; font-weight: bold\">.</span><span style=\"color: #808000; text-decoration-color: #808000; font-weight: bold\">0</span><span style=\"color: #808000; text-decoration-color: #808000; font-weight: bold\"> of pertpy is newer than the latest release </span><span style=\"color: #808000; text-decoration-color: #808000; font-weight: bold\">0.3</span><span style=\"color: #808000; text-decoration-color: #808000; font-weight: bold\">.</span><span style=\"color: #808000; text-decoration-color: #808000; font-weight: bold\">0</span><span style=\"color: #808000; text-decoration-color: #808000; font-weight: bold\">! You are running a nightly version and </span>\n",
       "<span style=\"color: #808000; text-decoration-color: #808000; font-weight: bold\">features may break!</span>\n",
       "</pre>\n"
      ],
      "text/plain": [
       "\u001b[1;33mInstalled version \u001b[0m\u001b[1;33m0.4\u001b[0m\u001b[1;33m.\u001b[0m\u001b[1;33m0\u001b[0m\u001b[1;33m of pertpy is newer than the latest release \u001b[0m\u001b[1;33m0.3\u001b[0m\u001b[1;33m.\u001b[0m\u001b[1;33m0\u001b[0m\u001b[1;33m! You are running a nightly version and \u001b[0m\n",
       "\u001b[1;33mfeatures may break!\u001b[0m\n"
      ]
     },
     "metadata": {},
     "output_type": "display_data"
    },
    {
     "name": "stderr",
     "output_type": "stream",
     "text": [
      "OMP: Info #276: omp_set_nested routine deprecated, please use omp_set_max_active_levels instead.\n"
     ]
    },
    {
     "data": {
      "text/html": [
       "<pre style=\"white-space:pre;overflow-x:auto;line-height:normal;font-family:Menlo,'DejaVu Sans Mono',consolas,'Courier New',monospace\"><span style=\"color: #808000; text-decoration-color: #808000; font-weight: bold\">ryp2 is not installed. Install with </span><span style=\"color: #008000; text-decoration-color: #008000; font-weight: bold\">pip install rpy2 </span><span style=\"color: #808000; text-decoration-color: #808000; font-weight: bold\">to run tools with R support.</span>\n",
       "</pre>\n"
      ],
      "text/plain": [
       "\u001b[1;33mryp2 is not installed. Install with \u001b[0m\u001b[1;32mpip install rpy2 \u001b[0m\u001b[1;33mto run tools with R support.\u001b[0m\n"
      ]
     },
     "metadata": {},
     "output_type": "display_data"
    },
    {
     "data": {
      "text/html": [
       "<pre style=\"white-space:pre;overflow-x:auto;line-height:normal;font-family:Menlo,'DejaVu Sans Mono',consolas,'Courier New',monospace\"><span style=\"color: #808000; text-decoration-color: #808000; font-weight: bold\">To use sccoda or tasccoda please install ete3 with </span><span style=\"color: #008000; text-decoration-color: #008000; font-weight: bold\">pip install ete3</span>\n",
       "</pre>\n"
      ],
      "text/plain": [
       "\u001b[1;33mTo use sccoda or tasccoda please install ete3 with \u001b[0m\u001b[1;32mpip install ete3\u001b[0m\n"
      ]
     },
     "metadata": {},
     "output_type": "display_data"
    }
   ],
   "source": [
    "import pertpy as pt\n",
    "import scanpy as sc\n",
    "import scipy"
   ]
  },
  {
   "cell_type": "markdown",
   "id": "5923f324",
   "metadata": {},
   "source": [
    "## Dataset"
   ]
  },
  {
   "cell_type": "markdown",
   "id": "f368a433-c338-4590-9b2d-000d68564adc",
   "metadata": {},
   "source": [
    "All guides should be available as a separate AnnData object containing counts of each guide for each cell.\n",
    "The `var_names` of the AnnData correspond to the ID of these guides. In this example the 'gdo' modality contains guide RNA expression values.\n",
    "\n",
    "Let's load the Papalexi dataset. We will try to reproduce the guide assignment of the dataset."
   ]
  },
  {
   "cell_type": "code",
   "execution_count": 3,
   "id": "274d6c58-84d2-490d-91b7-9093a3d8f65c",
   "metadata": {
    "tags": []
   },
   "outputs": [
    {
     "data": {
      "text/plain": [
       "AnnData object with n_obs × n_vars = 20729 × 111\n",
       "    obs: 'orig.ident', 'nCount_RNA', 'nFeature_RNA', 'nCount_HTO', 'nFeature_HTO', 'nCount_GDO', 'nCount_ADT', 'nFeature_ADT', 'percent.mito', 'MULTI_ID', 'HTO_classification', 'guide_ID', 'gene_target', 'NT', 'perturbation', 'replicate', 'S.Score', 'G2M.Score', 'Phase'\n",
       "    var: 'name'"
      ]
     },
     "execution_count": 3,
     "metadata": {},
     "output_type": "execute_result"
    }
   ],
   "source": [
    "mdata = pt.data.papalexi_2021()\n",
    "# seems like an error in the original data\n",
    "mdata.mod[\"gdo\"].X = scipy.sparse.csr_matrix(mdata.mod[\"gdo\"].X.A - 1)\n",
    "gdo = mdata.mod[\"gdo\"]\n",
    "gdo"
   ]
  },
  {
   "cell_type": "markdown",
   "id": "9c837c3e-5f37-4d52-b648-d2faa74f300d",
   "metadata": {},
   "source": [
    "Then we save the original count values and transform the data using log transformation."
   ]
  },
  {
   "cell_type": "code",
   "execution_count": 4,
   "id": "20835cbb-9d70-41d9-9ae4-223fbec10e89",
   "metadata": {
    "tags": []
   },
   "outputs": [
    {
     "data": {
      "text/plain": [
       "AnnData object with n_obs × n_vars = 20729 × 111\n",
       "    obs: 'orig.ident', 'nCount_RNA', 'nFeature_RNA', 'nCount_HTO', 'nFeature_HTO', 'nCount_GDO', 'nCount_ADT', 'nFeature_ADT', 'percent.mito', 'MULTI_ID', 'HTO_classification', 'guide_ID', 'gene_target', 'NT', 'perturbation', 'replicate', 'S.Score', 'G2M.Score', 'Phase'\n",
       "    var: 'name'\n",
       "    uns: 'log1p'\n",
       "    layers: 'counts'"
      ]
     },
     "execution_count": 4,
     "metadata": {},
     "output_type": "execute_result"
    }
   ],
   "source": [
    "gdo.layers[\"counts\"] = gdo.X.copy()\n",
    "sc.pp.log1p(gdo)\n",
    "gdo"
   ]
  },
  {
   "cell_type": "markdown",
   "id": "0e269fa9-0607-4043-ae25-aea9c137bbd1",
   "metadata": {},
   "source": [
    "We can visualize the expression of guides per cells to get more insight. By passing the argument `key_to_save_order` to the function, the order of cells in the plot will be saved in obs of the data."
   ]
  },
  {
   "cell_type": "code",
   "execution_count": 5,
   "id": "ce6a8a68-5962-4c3a-b4d1-83d2a7c00df2",
   "metadata": {
    "tags": []
   },
   "outputs": [
    {
     "name": "stdout",
     "output_type": "stream",
     "text": [
      "WARNING: Gene labels are not shown when more than 50 genes are visualized. To show gene labels set `show_gene_labels=True`\n"
     ]
    },
    {
     "data": {
      "image/png": "[encoded data removed]",
      "text/plain": [
       "<Figure size 800x600 with 2 Axes>"
      ]
     },
     "metadata": {},
     "output_type": "display_data"
    }
   ],
   "source": [
    "pt.pl.guide.heatmap(gdo, key_to_save_order=\"plot_order\")"
   ]
  },
  {
   "cell_type": "code",
   "execution_count": 6,
   "id": "76d0e05d-d7a6-4957-b815-cbeac7f6b3a5",
   "metadata": {
    "tags": []
   },
   "outputs": [
    {
     "data": {
      "text/plain": [
       "AnnData object with n_obs × n_vars = 20729 × 111\n",
       "    obs: 'orig.ident', 'nCount_RNA', 'nFeature_RNA', 'nCount_HTO', 'nFeature_HTO', 'nCount_GDO', 'nCount_ADT', 'nFeature_ADT', 'percent.mito', 'MULTI_ID', 'HTO_classification', 'guide_ID', 'gene_target', 'NT', 'perturbation', 'replicate', 'S.Score', 'G2M.Score', 'Phase', 'plot_order'\n",
       "    var: 'name'\n",
       "    uns: 'log1p'\n",
       "    layers: 'counts'"
      ]
     },
     "execution_count": 6,
     "metadata": {},
     "output_type": "execute_result"
    }
   ],
   "source": [
    "gdo"
   ]
  },
  {
   "cell_type": "markdown",
   "id": "7adf3d4e",
   "metadata": {},
   "source": [
    "## Simple thresholding"
   ]
  },
  {
   "cell_type": "markdown",
   "id": "653e31c3-2d00-463e-96e2-a02c28f7d1bd",
   "metadata": {},
   "source": [
    "Then we assign guides based on a simple thresholding mechanism. Here we consider a guide only if there are at least 5 counts. Please note which layer you pass to the function."
   ]
  },
  {
   "cell_type": "code",
   "execution_count": 7,
   "id": "20a8363a-8e6b-40f2-b538-28aa964a09cf",
   "metadata": {
    "tags": []
   },
   "outputs": [
    {
     "data": {
      "text/plain": [
       "AnnData object with n_obs × n_vars = 20729 × 111\n",
       "    obs: 'orig.ident', 'nCount_RNA', 'nFeature_RNA', 'nCount_HTO', 'nFeature_HTO', 'nCount_GDO', 'nCount_ADT', 'nFeature_ADT', 'percent.mito', 'MULTI_ID', 'HTO_classification', 'guide_ID', 'gene_target', 'NT', 'perturbation', 'replicate', 'S.Score', 'G2M.Score', 'Phase', 'plot_order'\n",
       "    var: 'name'\n",
       "    uns: 'log1p'\n",
       "    layers: 'counts', 'assigned_guides'"
      ]
     },
     "execution_count": 7,
     "metadata": {},
     "output_type": "execute_result"
    }
   ],
   "source": [
    "ga = pt.pp.GuideAssignment()\n",
    "ga.assign_by_threshold(gdo, assignment_threshold=5, layer=\"counts\")\n",
    "gdo"
   ]
  },
  {
   "cell_type": "markdown",
   "id": "986a008a-09f4-4543-935d-9dc0a955f874",
   "metadata": {},
   "source": [
    "Then we again plot the heatmap of the assigned guides to see the effect of the assignment. \n",
    "We use the same ordering as in the previous plot to that we can compare the two plots."
   ]
  },
  {
   "cell_type": "code",
   "execution_count": 8,
   "id": "a4e84d91-107e-49d8-b928-61974bf7b7bf",
   "metadata": {
    "tags": []
   },
   "outputs": [
    {
     "name": "stdout",
     "output_type": "stream",
     "text": [
      "WARNING: Gene labels are not shown when more than 50 genes are visualized. To show gene labels set `show_gene_labels=True`\n"
     ]
    },
    {
     "data": {
      "image/png": "[encoded data removed]",
      "text/plain": [
       "<Figure size 800x600 with 2 Axes>"
      ]
     },
     "metadata": {},
     "output_type": "display_data"
    }
   ],
   "source": [
    "ga.plot_guide.heatmap(gdo, layer=\"assigned_guides\", order_by=\"plot_order\")"
   ]
  },
  {
   "cell_type": "markdown",
   "id": "48982a0b",
   "metadata": {},
   "source": [
    "## Most frequent guide"
   ]
  },
  {
   "cell_type": "markdown",
   "id": "55556c56-8a33-42b0-a064-1995b3427cbe",
   "metadata": {},
   "source": [
    "We can also assign to the guide RNA with the highest detection:"
   ]
  },
  {
   "cell_type": "code",
   "execution_count": 9,
   "id": "1dccda56-8593-48d9-a45b-326525d4f3aa",
   "metadata": {
    "tags": []
   },
   "outputs": [],
   "source": [
    "ga = pt.pp.GuideAssignment()\n",
    "ga.assign_to_max_guide(gdo, assignment_threshold=5, layer=\"counts\")"
   ]
  },
  {
   "cell_type": "markdown",
   "id": "e6103f7c-e8cb-4766-91f7-910a0342fd07",
   "metadata": {},
   "source": [
    "As we see it completely maches the guide assignment in the mixscape pipeline:"
   ]
  },
  {
   "cell_type": "code",
   "execution_count": 10,
   "id": "378fc0e2-fc3b-41d6-a9ad-d8b12d54897a",
   "metadata": {
    "tags": []
   },
   "outputs": [
    {
     "data": {
      "text/plain": [
       "0"
      ]
     },
     "execution_count": 10,
     "metadata": {},
     "output_type": "execute_result"
    }
   ],
   "source": [
    "sum(gdo.obs[\"assigned_guide\"] != gdo.obs[\"guide_ID\"])"
   ]
  },
  {
   "cell_type": "markdown",
   "id": "cc61dd5a",
   "metadata": {},
   "source": [
    "## References"
   ]
  },
  {
   "cell_type": "markdown",
   "id": "e184b1be",
   "metadata": {},
   "source": [
    "1. Papalexi, E., Mimitou, E.P., Butler, A.W. et al. Characterizing the molecular regulation of inhibitory immune checkpoints with multimodal single-cell screens. Nat Genet 53, 322–331 (2021). https://doi.org/10.1038/s41588-021-00778-2"
   ]
  }
 ],
 "metadata": {
  "kernelspec": {
   "display_name": "Python 3 (ipykernel)",
   "language": "python",
   "name": "python3"
  },
  "language_info": {
   "codemirror_mode": {
    "name": "ipython",
    "version": 3
   },
   "file_extension": ".py",
   "mimetype": "text/x-python",
   "name": "python",
   "nbconvert_exporter": "python",
   "pygments_lexer": "ipython3",
   "version": "3.12.2"
  }
 },
 "nbformat": 4,
 "nbformat_minor": 5
}
