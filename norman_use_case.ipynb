{
 "cells": [
  {
   "cell_type": "markdown",
   "source": [
    "# Use-case: Exploring genetic interation manifolds"
   ],
   "metadata": {
    "collapsed": false
   },
   "id": "d879dd68d8c8e210"
  },
  {
   "cell_type": "code",
   "execution_count": null,
   "outputs": [],
   "source": [
    "import warnings\n",
    "warnings.filterwarnings(\"ignore\")\n",
    "\n",
    "import pertpy as pt\n",
    "import scanpy as sc\n",
    "import matplotlib.pyplot as plt\n",
    "import numpy as np"
   ],
   "metadata": {
    "collapsed": false
   },
   "id": "5a44b93ffe330c33"
  },
  {
   "cell_type": "markdown",
   "source": [
    "## Load and preprocess data"
   ],
   "metadata": {
    "collapsed": false
   },
   "id": "be28a970a6611e19"
  },
  {
   "cell_type": "code",
   "execution_count": null,
   "outputs": [],
   "source": [
    "adata = pt.dt.norman_2019()\n",
    "adata"
   ],
   "metadata": {
    "collapsed": false
   },
   "id": "13358eb22da21367"
  },
  {
   "cell_type": "code",
   "execution_count": null,
   "outputs": [],
   "source": [
    "adata.obs[\"perturbed\"] = np.where(\n",
    "    adata.obs[\"perturbation_name\"] == \"control\", \"control\", \"perturbed\"\n",
    ")"
   ],
   "metadata": {
    "collapsed": false
   },
   "id": "6d29c226f837ecac"
  },
  {
   "cell_type": "code",
   "execution_count": null,
   "outputs": [],
   "source": [
    "# Cell cycle genes identified by Tirosh et al., 2016\n",
    "s_genes = [\n",
    "    \"MCM5\",\n",
    "    \"PCNA\",\n",
    "    \"TYMS\",\n",
    "    \"FEN1\",\n",
    "    \"MCM2\",\n",
    "    \"MCM4\",\n",
    "    \"RRM1\",\n",
    "    \"UNG\",\n",
    "    \"GINS2\",\n",
    "    \"MCM6\",\n",
    "    \"CDCA7\",\n",
    "    \"DTL\",\n",
    "    \"PRIM1\",\n",
    "    \"UHRF1\",\n",
    "    \"HELLS\",\n",
    "    \"RFC2\",\n",
    "    \"RPA2\",\n",
    "    \"NASP\",\n",
    "    \"RAD51AP1\",\n",
    "    \"GMNN\",\n",
    "    \"WDR76\",\n",
    "    \"SLBP\",\n",
    "    \"CCNE2\",\n",
    "    \"UBR7\",\n",
    "    \"POLD3\",\n",
    "    \"MSH2\",\n",
    "    \"ATAD2\",\n",
    "    \"RAD51\",\n",
    "    \"RRM2\",\n",
    "    \"CDC45\",\n",
    "    \"CDC6\",\n",
    "    \"EXO1\",\n",
    "    \"TIPIN\",\n",
    "    \"DSCC1\",\n",
    "    \"BLM\",\n",
    "    \"CASP8AP2\",\n",
    "    \"USP1\",\n",
    "    \"CLSPN\",\n",
    "    \"POLA1\",\n",
    "    \"CHAF1B\",\n",
    "    \"BRIP1\",\n",
    "    \"E2F8\",\n",
    "]\n",
    "\n",
    "g2m_genes = [\n",
    "    \"HMGB2\",\n",
    "    \"CDK1\",\n",
    "    \"NUSAP1\",\n",
    "    \"UBE2C\",\n",
    "    \"BIRC5\",\n",
    "    \"TPX2\",\n",
    "    \"TOP2A\",\n",
    "    \"NDC80\",\n",
    "    \"CKS2\",\n",
    "    \"NUF2\",\n",
    "    \"CKS1B\",\n",
    "    \"MKI67\",\n",
    "    \"TMPO\",\n",
    "    \"CENPF\",\n",
    "    \"TACC3\",\n",
    "    \"FAM64A\",\n",
    "    \"SMC4\",\n",
    "    \"CCNB2\",\n",
    "    \"CKAP2L\",\n",
    "    \"CKAP2\",\n",
    "    \"AURKB\",\n",
    "    \"BUB1\",\n",
    "    \"KIF11\",\n",
    "    \"ANP32E\",\n",
    "    \"TUBB4B\",\n",
    "    \"GTSE1\",\n",
    "    \"KIF20B\",\n",
    "    \"HJURP\",\n",
    "    \"CDCA3\",\n",
    "    \"HN1\",\n",
    "    \"CDC20\",\n",
    "    \"TTK\",\n",
    "    \"CDC25C\",\n",
    "    \"KIF2C\",\n",
    "    \"RANGAP1\",\n",
    "    \"NCAPD2\",\n",
    "    \"DLGAP5\",\n",
    "    \"CDCA2\",\n",
    "    \"CDCA8\",\n",
    "    \"ECT2\",\n",
    "    \"KIF23\",\n",
    "    \"HMMR\",\n",
    "    \"AURKA\",\n",
    "    \"PSRC1\",\n",
    "    \"ANLN\",\n",
    "    \"LBR\",\n",
    "    \"CKAP5\",\n",
    "    \"CENPE\",\n",
    "    \"CTCF\",\n",
    "    \"NEK2\",\n",
    "    \"G2E3\",\n",
    "    \"GAS2L3\",\n",
    "    \"CBX5\",\n",
    "    \"CENPA\",\n",
    "]\n",
    "\n",
    "sc.tl.score_genes_cell_cycle(adata, s_genes=s_genes, g2m_genes=g2m_genes)"
   ],
   "metadata": {
    "collapsed": false
   },
   "id": "53be77995ea0a4b0"
  },
  {
   "cell_type": "code",
   "execution_count": null,
   "outputs": [],
   "source": [
    "sc.pp.normalize_total(adata)\n",
    "sc.pp.log1p(adata)\n",
    "sc.pp.highly_variable_genes(adata, subset=True, n_top_genes=4000)"
   ],
   "metadata": {
    "collapsed": false
   },
   "id": "74a1a630b6007ae4"
  },
  {
   "cell_type": "code",
   "execution_count": null,
   "outputs": [],
   "source": [
    "sc.pp.neighbors(adata)\n",
    "sc.pp.pca(adata)\n",
    "sc.tl.umap(adata)"
   ],
   "metadata": {
    "collapsed": false
   },
   "id": "8b5b500bc7dffc75"
  },
  {
   "cell_type": "code",
   "execution_count": null,
   "outputs": [],
   "source": [
    "sc.pl.umap(adata, color=\"perturbation_name\")"
   ],
   "metadata": {
    "collapsed": false
   },
   "id": "fac14083ac4e4a6a"
  },
  {
   "cell_type": "code",
   "execution_count": null,
   "outputs": [],
   "source": [
    "sc.pl.umap(adata, color=\"phase\", palette=\"Set3\")"
   ],
   "metadata": {
    "collapsed": false
   },
   "id": "65d7e7a5cb71528c"
  },
  {
   "cell_type": "markdown",
   "source": [
    "## Apply Mixscape to identify and classify perturbed cells"
   ],
   "metadata": {
    "collapsed": false
   },
   "id": "764632a2c05bf906"
  },
  {
   "cell_type": "code",
   "execution_count": null,
   "outputs": [],
   "source": [],
   "metadata": {
    "collapsed": false
   },
   "id": "b7dbea2dc1b87309"
  }
 ],
 "metadata": {
  "kernelspec": {
   "display_name": "Python 3",
   "language": "python",
   "name": "python3"
  },
  "language_info": {
   "codemirror_mode": {
    "name": "ipython",
    "version": 2
   },
   "file_extension": ".py",
   "mimetype": "text/x-python",
   "name": "python",
   "nbconvert_exporter": "python",
   "pygments_lexer": "ipython2",
   "version": "2.7.6"
  }
 },
 "nbformat": 4,
 "nbformat_minor": 5
}
