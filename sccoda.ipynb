{
 "cells": [
  {
   "cell_type": "markdown",
   "metadata": {},
   "source": [
    "# scCODA - Compositional analysis of labeled single-cell data"
   ]
  },
  {
   "cell_type": "markdown",
   "metadata": {},
   "source": [
    "Here, we show how to use the *scCODA* model ([Büttner, Ostner et al., 2021](https://www.nature.com/articles/s41467-021-27150-6)) to analyze changes in cell composition data.\n",
    "Inspired by methods for compositional analysis of microbiome data, scCODA proposes a Bayesian approach to address the low replicate issue as commonly encountered in single-cell analysis {cite}`Büttner2021`.\n",
    "It models cell-type counts using a hierarchical Dirichlet-Multinomial model, which accounts for uncertainty in cell-type proportions and the negative correlative bias via joint modeling of all measured cell-type proportions.\n",
    "To ensure a uniquely identifiable solution and easy interpretability, the reference in scCODA is chosen to be a specific cell type.\n",
    "Hence, any detected compositional changes by scCODA always have to be viewed in relation to the selected reference."
   ]
  },
  {
   "cell_type": "markdown",
   "metadata": {},
   "source": [
    "## Setup"
   ]
  },
  {
   "cell_type": "code",
   "execution_count": null,
   "metadata": {
    "tags": []
   },
   "outputs": [],
   "source": [
    "import warnings\n",
    "\n",
    "warnings.filterwarnings(\"ignore\")\n",
    "\n",
    "import matplotlib.pyplot as plt\n",
    "import pertpy as pt"
   ]
  },
  {
   "cell_type": "markdown",
   "metadata": {},
   "source": [
    "## Dataset\n",
    "\n",
    "The data we use in the following example comes from [Haber et al., 2017](https://www.nature.com/articles/nature24489).\n",
    "It contains samples from the small intestinal epithelium of mice with different conditions.\n",
    "We first load the raw cell-level data. The dataset contains gene expressions of 9842 cells.\n",
    "They are annotated with their sample identifier (`batch`), the condition of the subjects and the type of each cell (`cell_label`)."
   ]
  },
  {
   "cell_type": "code",
   "execution_count": 2,
   "metadata": {
    "collapsed": false
   },
   "outputs": [
    {
     "data": {
      "text/html": [
       "<div>\n",
       "<style scoped>\n",
       "    .dataframe tbody tr th:only-of-type {\n",
       "        vertical-align: middle;\n",
       "    }\n",
       "\n",
       "    .dataframe tbody tr th {\n",
       "        vertical-align: top;\n",
       "    }\n",
       "\n",
       "    .dataframe thead th {\n",
       "        text-align: right;\n",
       "    }\n",
       "</style>\n",
       "<table border=\"1\" class=\"dataframe\">\n",
       "  <thead>\n",
       "    <tr style=\"text-align: right;\">\n",
       "      <th></th>\n",
       "      <th>batch</th>\n",
       "      <th>barcode</th>\n",
       "      <th>condition</th>\n",
       "      <th>cell_label</th>\n",
       "    </tr>\n",
       "    <tr>\n",
       "      <th>index</th>\n",
       "      <th></th>\n",
       "      <th></th>\n",
       "      <th></th>\n",
       "      <th></th>\n",
       "    </tr>\n",
       "  </thead>\n",
       "  <tbody>\n",
       "    <tr>\n",
       "      <th>B1_AAACATACCACAAC_Control_Enterocyte.Progenitor</th>\n",
       "      <td>B1</td>\n",
       "      <td>AAACATACCACAAC</td>\n",
       "      <td>Control</td>\n",
       "      <td>Enterocyte.Progenitor</td>\n",
       "    </tr>\n",
       "    <tr>\n",
       "      <th>B1_AAACGCACGAGGAC_Control_Stem</th>\n",
       "      <td>B1</td>\n",
       "      <td>AAACGCACGAGGAC</td>\n",
       "      <td>Control</td>\n",
       "      <td>Stem</td>\n",
       "    </tr>\n",
       "    <tr>\n",
       "      <th>B1_AAACGCACTAGCCA_Control_Stem</th>\n",
       "      <td>B1</td>\n",
       "      <td>AAACGCACTAGCCA</td>\n",
       "      <td>Control</td>\n",
       "      <td>Stem</td>\n",
       "    </tr>\n",
       "    <tr>\n",
       "      <th>B1_AAACGCACTGTCCC_Control_Stem</th>\n",
       "      <td>B1</td>\n",
       "      <td>AAACGCACTGTCCC</td>\n",
       "      <td>Control</td>\n",
       "      <td>Stem</td>\n",
       "    </tr>\n",
       "    <tr>\n",
       "      <th>B1_AAACTTGACCACCT_Control_Enterocyte.Progenitor</th>\n",
       "      <td>B1</td>\n",
       "      <td>AAACTTGACCACCT</td>\n",
       "      <td>Control</td>\n",
       "      <td>Enterocyte.Progenitor</td>\n",
       "    </tr>\n",
       "    <tr>\n",
       "      <th>...</th>\n",
       "      <td>...</td>\n",
       "      <td>...</td>\n",
       "      <td>...</td>\n",
       "      <td>...</td>\n",
       "    </tr>\n",
       "    <tr>\n",
       "      <th>B10_TTTCACGACAAGCT_Salmonella_TA</th>\n",
       "      <td>B10</td>\n",
       "      <td>TTTCACGACAAGCT</td>\n",
       "      <td>Salmonella</td>\n",
       "      <td>TA</td>\n",
       "    </tr>\n",
       "    <tr>\n",
       "      <th>B10_TTTCAGTGAGGCGA_Salmonella_Enterocyte</th>\n",
       "      <td>B10</td>\n",
       "      <td>TTTCAGTGAGGCGA</td>\n",
       "      <td>Salmonella</td>\n",
       "      <td>Enterocyte</td>\n",
       "    </tr>\n",
       "    <tr>\n",
       "      <th>B10_TTTCAGTGCGACAT_Salmonella_Stem</th>\n",
       "      <td>B10</td>\n",
       "      <td>TTTCAGTGCGACAT</td>\n",
       "      <td>Salmonella</td>\n",
       "      <td>Stem</td>\n",
       "    </tr>\n",
       "    <tr>\n",
       "      <th>B10_TTTCAGTGTGACCA_Salmonella_Endocrine</th>\n",
       "      <td>B10</td>\n",
       "      <td>TTTCAGTGTGACCA</td>\n",
       "      <td>Salmonella</td>\n",
       "      <td>Endocrine</td>\n",
       "    </tr>\n",
       "    <tr>\n",
       "      <th>B10_TTTCAGTGTTCTCA_Salmonella_Enterocyte.Progenitor</th>\n",
       "      <td>B10</td>\n",
       "      <td>TTTCAGTGTTCTCA</td>\n",
       "      <td>Salmonella</td>\n",
       "      <td>Enterocyte.Progenitor</td>\n",
       "    </tr>\n",
       "  </tbody>\n",
       "</table>\n",
       "<p>9842 rows × 4 columns</p>\n",
       "</div>"
      ],
      "text/plain": [
       "                                                   batch         barcode  \\\n",
       "index                                                                      \n",
       "B1_AAACATACCACAAC_Control_Enterocyte.Progenitor       B1  AAACATACCACAAC   \n",
       "B1_AAACGCACGAGGAC_Control_Stem                        B1  AAACGCACGAGGAC   \n",
       "B1_AAACGCACTAGCCA_Control_Stem                        B1  AAACGCACTAGCCA   \n",
       "B1_AAACGCACTGTCCC_Control_Stem                        B1  AAACGCACTGTCCC   \n",
       "B1_AAACTTGACCACCT_Control_Enterocyte.Progenitor       B1  AAACTTGACCACCT   \n",
       "...                                                  ...             ...   \n",
       "B10_TTTCACGACAAGCT_Salmonella_TA                     B10  TTTCACGACAAGCT   \n",
       "B10_TTTCAGTGAGGCGA_Salmonella_Enterocyte             B10  TTTCAGTGAGGCGA   \n",
       "B10_TTTCAGTGCGACAT_Salmonella_Stem                   B10  TTTCAGTGCGACAT   \n",
       "B10_TTTCAGTGTGACCA_Salmonella_Endocrine              B10  TTTCAGTGTGACCA   \n",
       "B10_TTTCAGTGTTCTCA_Salmonella_Enterocyte.Progen...   B10  TTTCAGTGTTCTCA   \n",
       "\n",
       "                                                     condition  \\\n",
       "index                                                            \n",
       "B1_AAACATACCACAAC_Control_Enterocyte.Progenitor        Control   \n",
       "B1_AAACGCACGAGGAC_Control_Stem                         Control   \n",
       "B1_AAACGCACTAGCCA_Control_Stem                         Control   \n",
       "B1_AAACGCACTGTCCC_Control_Stem                         Control   \n",
       "B1_AAACTTGACCACCT_Control_Enterocyte.Progenitor        Control   \n",
       "...                                                        ...   \n",
       "B10_TTTCACGACAAGCT_Salmonella_TA                    Salmonella   \n",
       "B10_TTTCAGTGAGGCGA_Salmonella_Enterocyte            Salmonella   \n",
       "B10_TTTCAGTGCGACAT_Salmonella_Stem                  Salmonella   \n",
       "B10_TTTCAGTGTGACCA_Salmonella_Endocrine             Salmonella   \n",
       "B10_TTTCAGTGTTCTCA_Salmonella_Enterocyte.Progen...  Salmonella   \n",
       "\n",
       "                                                               cell_label  \n",
       "index                                                                      \n",
       "B1_AAACATACCACAAC_Control_Enterocyte.Progenitor     Enterocyte.Progenitor  \n",
       "B1_AAACGCACGAGGAC_Control_Stem                                       Stem  \n",
       "B1_AAACGCACTAGCCA_Control_Stem                                       Stem  \n",
       "B1_AAACGCACTGTCCC_Control_Stem                                       Stem  \n",
       "B1_AAACTTGACCACCT_Control_Enterocyte.Progenitor     Enterocyte.Progenitor  \n",
       "...                                                                   ...  \n",
       "B10_TTTCACGACAAGCT_Salmonella_TA                                       TA  \n",
       "B10_TTTCAGTGAGGCGA_Salmonella_Enterocyte                       Enterocyte  \n",
       "B10_TTTCAGTGCGACAT_Salmonella_Stem                                   Stem  \n",
       "B10_TTTCAGTGTGACCA_Salmonella_Endocrine                         Endocrine  \n",
       "B10_TTTCAGTGTTCTCA_Salmonella_Enterocyte.Progen...  Enterocyte.Progenitor  \n",
       "\n",
       "[9842 rows x 4 columns]"
      ]
     },
     "execution_count": 2,
     "metadata": {},
     "output_type": "execute_result"
    }
   ],
   "source": [
    "haber_cells = pt.dt.haber_2017_regions()\n",
    "haber_cells.obs"
   ]
  },
  {
   "cell_type": "markdown",
   "metadata": {},
   "source": [
    "We now create an instance of a scCODA model and use it to aggregate the (cells x genes) data to a (samples x cell types) format by counting the cells for each category. The resulting `MuData` object `sccoda_data` includes both data aggregation levels as modalities `rna` and `coda`.\n",
    "\n",
    "Looking at the data, we see that we have 4 control samples, and 3 conditions with 2 samples each.\n",
    "The resulting object separates our data components: Cell counts are stored in `data.X`, covariates in `data.obs`.\n",
    "\n",
    "Further, it must contain one column or a set of columns (e.g. subject id, treatment, disease status) that uniquely identify each (statistical) sample.\n",
    "Further covariates (e.g. subject age) can either be specified via addidional column names in `adata.obs`, a key in `adata.uns`, or as a separate DataFrame.\n",
    "\n",
    "**Note:** If you’re dealing with a continuous covariate, make sure to normalize it (e.g. using min-max normalization) before passing it to scCODA."
   ]
  },
  {
   "cell_type": "code",
   "execution_count": 3,
   "metadata": {
    "collapsed": false
   },
   "outputs": [
    {
     "name": "stdout",
     "output_type": "stream",
     "text": [
      "MuData object with n_obs × n_vars = 9852 × 15223\n",
      "  2 modalities\n",
      "    rna:\t9842 x 15215\n",
      "      obs:\t'batch', 'barcode', 'condition', 'cell_label', 'scCODA_sample_id'\n",
      "    coda:\t10 x 8\n",
      "      obs:\t'condition', 'batch'\n",
      "      var:\t'n_cells'\n",
      "[[ 36  59 136  36 239 125 191  18]\n",
      " [ 32 373 116  67 117  65 168  12]\n",
      " [  5  46  23  20  50  11  40   5]\n",
      " [ 45  98 188 124 250 155 365  33]\n",
      " [ 26 221 198  36 131 130 196   4]\n",
      " [ 52  75 347  66 323 263 313  51]\n",
      " [ 65 126 115  33  65  39 129  59]\n",
      " [ 42  71 203 147 271 109 180 146]\n",
      " [ 40  57 383 170 321 244 256  71]\n",
      " [ 37 332 113  59  90  47 132  10]]\n",
      "                    condition batch\n",
      "scCODA_sample_id                   \n",
      "B1                    Control    B1\n",
      "B10                Salmonella   B10\n",
      "B2                    Control    B2\n",
      "B3                    Control    B3\n",
      "B4                    Control    B4\n",
      "B5                 Hpoly.Day3    B5\n",
      "B6                 Hpoly.Day3    B6\n",
      "B7                Hpoly.Day10    B7\n",
      "B8                Hpoly.Day10    B8\n",
      "B9                 Salmonella    B9\n"
     ]
    }
   ],
   "source": [
    "sccoda_model = pt.tl.Sccoda()\n",
    "sccoda_data = sccoda_model.load(\n",
    "    haber_cells,\n",
    "    type=\"cell_level\",\n",
    "    generate_sample_level=True,\n",
    "    cell_type_identifier=\"cell_label\",\n",
    "    sample_identifier=\"batch\",\n",
    "    covariate_obs=[\"condition\"],\n",
    ")\n",
    "print(sccoda_data)\n",
    "print(sccoda_data[\"coda\"].X)\n",
    "print(sccoda_data[\"coda\"].obs)"
   ]
  },
  {
   "cell_type": "markdown",
   "metadata": {},
   "source": [
    "**Note:**\n",
    "\n",
    "The term \"samples\" in scCODA refers to its statistical meaning.\n",
    "Each sample should contain all cells that were processed under the same conditions (e.g. same subject, treatment, disease status, ...), which will be combined into one row of the aggregated data set.\n",
    "When using `load`, the key(s) to uniquely identify the samples must be specified in `sample_identifier`. Additional covariates that do not further distinguish the samples but are needed to create the model formula can be passed via column names in adata.obs (`covariate_obs`), a key in adata.uns (`covariate_uns`), or as a separate DataFrame (`covariate_df`).\n",
    "When creating the aggregated dataset, scCODA will check the uniqueness of each additional covariate. Only if all cells in each sample have the same covariate value, it is possible to assign a value to the whole sample.\n",
    "If this is not the case, scCODA will skip the covariate with the message `Covariate <xyz> has non-unique values! Skipping...`.\n",
    "\n",
    "In our example, the column `batch` uniquely identifies each of the 10 samples, and we can pass `condition` as an additional covariate.\n",
    "To showcase the need for a list of `sample_identifier`s, consider the example where we obtained cells from three different subjects, which were split and then treated in three different ways:\n",
    "\n",
    "| cell  | subject | treatment | age |\n",
    "|-------|---------|-----------|-----|\n",
    "| cell1 | S1      | T1        | 35  |\n",
    "| cell2 | S1      | T3        | 35  |\n",
    "| cell3 | S3      | T2        | 42  |\n",
    "| cell4 | S2      | T1        | 50  |\n",
    "| cell5 | S1      | T1        | 35  |\n",
    "\n",
    "In the aggregated data, we want nine samples (all combinations of subject and treatment).\n",
    "To achieve this, we need to pass the list `[\"subject\", \"treatment\"]` as the `sample_identifier`.\n",
    "The `age` column is unique for each subject (and therefore for each subject-treatment combination) and will thus be an additional covariate.\n",
    "The resulting aggregated `obs` DataFrame will be:\n",
    "\n",
    "| subject_treatment | subject | treatment | age |\n",
    "|-------------------|---------|-----------|-----|\n",
    "| S1_T1             | S1      | T1        | 35  |\n",
    "| S1_T2             | S1      | T2        | 35  |\n",
    "| S1_T3             | S1      | T3        | 35  |\n",
    "| S2_T1             | S2      | T1        | 42  |\n",
    "| S2_T2             | S2      | T2        | 42  |\n",
    "| S2_T3             | S2      | T3        | 42  |\n",
    "| S3_T1             | S3      | T1        | 50  |\n",
    "| S3_T2             | S3      | T2        | 50  |\n",
    "| S3_T3             | S3      | T3        | 50  |"
   ]
  },
  {
   "cell_type": "markdown",
   "metadata": {},
   "source": [
    "For our first example, we want to look at how the Salmonella infection influences the cell composition.\n",
    "Therefore, we create a subset of our compositional data that only contains the healthy and Salmonella-infected samples as a new data modality."
   ]
  },
  {
   "cell_type": "code",
   "execution_count": 4,
   "metadata": {
    "collapsed": false
   },
   "outputs": [
    {
     "name": "stdout",
     "output_type": "stream",
     "text": [
      "AnnData object with n_obs × n_vars = 6 × 8\n",
      "    obs: 'condition', 'batch'\n",
      "    var: 'n_cells'\n"
     ]
    }
   ],
   "source": [
    "# Select control and salmonella data\n",
    "sccoda_data.mod[\"coda_salm\"] = sccoda_data[\"coda\"][\n",
    "    sccoda_data[\"coda\"].obs[\"condition\"].isin([\"Control\", \"Salmonella\"])\n",
    "].copy()\n",
    "print(sccoda_data[\"coda_salm\"])"
   ]
  },
  {
   "cell_type": "markdown",
   "metadata": {},
   "source": [
    "Plotting the data, we can see that there is a large increase of Enterocytes in the infected sampes, while most other cell types slightly decrease.\n",
    "Since scRNA-seq experiments are limited in the number of cells per sample, the count data is compositional, which leads to negative correlations between the cell types.\n",
    "Thus, the slight decreases in many cell types might be fully caused by the increase in Enterocytes."
   ]
  },
  {
   "cell_type": "code",
   "execution_count": 5,
   "metadata": {
    "collapsed": false
   },
   "outputs": [
    {
     "data": {
      "image/png": "[encoded data removed]",
      "text/plain": [
       "<Figure size 640x480 with 1 Axes>"
      ]
     },
     "metadata": {},
     "output_type": "display_data"
    }
   ],
   "source": [
    "sccoda_model.plot_boxplots(sccoda_data, modality_key=\"coda_salm\", feature_name=\"condition\", add_dots=True)\n",
    "plt.show()"
   ]
  },
  {
   "cell_type": "markdown",
   "metadata": {},
   "source": [
    "## Model setup and inference\n",
    "\n",
    "We can now run parameter inference for the scCODA model to determine which cell types are credibly changing under Salmonella infection. To do this, we first need to specify all the necessary information through `sccoda_model.prepare`. We need to set:\n",
    "\n",
    "- The `formula` parameter. It specifies how the covariates are used in the model.\n",
    "It can process R-style formulas via the [patsy](https://patsy.readthedocs.io/en/latest/) package, e.g. `formula=\"Cov1 + Cov2 + Cov3\"`.\n",
    "Here, we simply use the \"Condition\" covariate of our dataset\n",
    "\n",
    "- The `reference_cell_type` parameter is used to specify a cell type that is believed to be unchanged by the covariates in `formula`.\n",
    "This is necessary, because compositional analysis must always be performed relative to a reference (See [Büttner, Ostner et al., 2021](https://www.nature.com/articles/s41467-021-27150-6) for a more thorough explanation).\n",
    "If no knowledge about such a cell type exists prior to the analysis, taking a cell type that has a nearly constant relative abundance over all samples is often a good choice.\n",
    "It is also possible to let scCODA find a suited reference cell type by using `reference_cell_type=\"automatic\"`.\n",
    "Here, we take Goblet cells as the reference."
   ]
  },
  {
   "cell_type": "code",
   "execution_count": 6,
   "metadata": {
    "collapsed": false
   },
   "outputs": [
    {
     "data": {
      "text/plain": [
       "AnnData object with n_obs × n_vars = 6 × 8\n",
       "    obs: 'condition', 'batch'\n",
       "    var: 'n_cells'\n",
       "    uns: 'scCODA_params'\n",
       "    obsm: 'covariate_matrix', 'sample_counts'"
      ]
     },
     "execution_count": 6,
     "metadata": {},
     "output_type": "execute_result"
    }
   ],
   "source": [
    "sccoda_data = sccoda_model.prepare(\n",
    "    sccoda_data,\n",
    "    modality_key=\"coda_salm\",\n",
    "    formula=\"condition\",\n",
    "    reference_cell_type=\"Goblet\",\n",
    ")\n",
    "sccoda_data[\"coda_salm\"]"
   ]
  },
  {
   "cell_type": "markdown",
   "metadata": {},
   "source": [
    "No-U-turn HMC sampling is then initiated by calling `sccoda_model.run_nuts()`."
   ]
  },
  {
   "cell_type": "code",
   "execution_count": 7,
   "metadata": {
    "collapsed": false
   },
   "outputs": [
    {
     "name": "stderr",
     "output_type": "stream",
     "text": [
      "sample: 100%|██████████| 11000/11000 [00:25<00:00, 429.20it/s, 63 steps of size 3.43e-02. acc. prob=0.73] \n"
     ]
    },
    {
     "data": {
      "text/plain": [
       "AnnData object with n_obs × n_vars = 6 × 8\n",
       "    obs: 'condition', 'batch'\n",
       "    var: 'n_cells'\n",
       "    uns: 'scCODA_params'\n",
       "    obsm: 'covariate_matrix', 'sample_counts'\n",
       "    varm: 'intercept_df', 'effect_df_condition[T.Salmonella]'"
      ]
     },
     "execution_count": 7,
     "metadata": {},
     "output_type": "execute_result"
    }
   ],
   "source": [
    "# Run MCMC\n",
    "sccoda_model.run_nuts(sccoda_data, modality_key=\"coda_salm\")\n",
    "sccoda_data[\"coda_salm\"]"
   ]
  },
  {
   "cell_type": "markdown",
   "metadata": {},
   "source": [
    "## Result interpretation\n",
    "\n",
    "Calling `sccoda_model.summary()`, we can see the most relevant information for further analysis:"
   ]
  },
  {
   "cell_type": "code",
   "execution_count": 8,
   "metadata": {
    "collapsed": false
   },
   "outputs": [
    {
     "data": {
      "text/html": [
       "<pre style=\"white-space:pre;overflow-x:auto;line-height:normal;font-family:Menlo,'DejaVu Sans Mono',consolas,'Courier New',monospace\"><span style=\"font-style: italic\">                                          Compositional Analysis summary                                           </span>\n",
       "┌──────────────────────────────────────────────┬──────────────────────────────────────────────────────────────────┐\n",
       "│<span style=\"font-weight: bold\"> Name                                         </span>│<span style=\"font-weight: bold\"> Value                                                            </span>│\n",
       "├──────────────────────────────────────────────┼──────────────────────────────────────────────────────────────────┤\n",
       "│<span style=\"color: #008080; text-decoration-color: #008080\"> Data                                         </span>│ Data: <span style=\"color: #008080; text-decoration-color: #008080; font-weight: bold\">6</span> samples, <span style=\"color: #008080; text-decoration-color: #008080; font-weight: bold\">8</span> cell types                                    │\n",
       "│<span style=\"color: #008080; text-decoration-color: #008080\"> Reference cell type                          </span>│ Goblet                                                           │\n",
       "│<span style=\"color: #008080; text-decoration-color: #008080\"> Formula                                      </span>│ condition                                                        │\n",
       "└──────────────────────────────────────────────┴──────────────────────────────────────────────────────────────────┘\n",
       "</pre>\n"
      ],
      "text/plain": [
       "\u001b[3m                                          Compositional Analysis summary                                           \u001b[0m\n",
       "┌──────────────────────────────────────────────┬──────────────────────────────────────────────────────────────────┐\n",
       "│\u001b[1m \u001b[0m\u001b[1mName                                        \u001b[0m\u001b[1m \u001b[0m│\u001b[1m \u001b[0m\u001b[1mValue                                                           \u001b[0m\u001b[1m \u001b[0m│\n",
       "├──────────────────────────────────────────────┼──────────────────────────────────────────────────────────────────┤\n",
       "│\u001b[36m \u001b[0m\u001b[36mData                                        \u001b[0m\u001b[36m \u001b[0m│ Data: \u001b[1;36m6\u001b[0m samples, \u001b[1;36m8\u001b[0m cell types                                    │\n",
       "│\u001b[36m \u001b[0m\u001b[36mReference cell type                         \u001b[0m\u001b[36m \u001b[0m│ Goblet                                                           │\n",
       "│\u001b[36m \u001b[0m\u001b[36mFormula                                     \u001b[0m\u001b[36m \u001b[0m│ condition                                                        │\n",
       "└──────────────────────────────────────────────┴──────────────────────────────────────────────────────────────────┘\n"
      ]
     },
     "metadata": {},
     "output_type": "display_data"
    },
    {
     "data": {
      "text/html": [
       "<pre style=\"white-space:pre;overflow-x:auto;line-height:normal;font-family:Menlo,'DejaVu Sans Mono',consolas,'Courier New',monospace\">┌─────────────────────────────────────────────────────────────────────────────────────────────────────────────────┐\n",
       "│<span style=\"font-weight: bold\"> Intercepts                                                                                                      </span>│\n",
       "├─────────────────────────────────────────────────────────────────────────────────────────────────────────────────┤\n",
       "│                        Final Parameter  Expected Sample                                                         │\n",
       "│ Cell Type                                                                                                       │\n",
       "│ Endocrine                  <span style=\"color: #008080; text-decoration-color: #008080; font-weight: bold\">1.108</span>            <span style=\"color: #008080; text-decoration-color: #008080; font-weight: bold\">34.707</span>                                                              │\n",
       "│ Enterocyte                 <span style=\"color: #008080; text-decoration-color: #008080; font-weight: bold\">2.322</span>           <span style=\"color: #008080; text-decoration-color: #008080; font-weight: bold\">116.855</span>                                                              │\n",
       "│ Enterocyte.Progenitor      <span style=\"color: #008080; text-decoration-color: #008080; font-weight: bold\">2.505</span>           <span style=\"color: #008080; text-decoration-color: #008080; font-weight: bold\">140.322</span>                                                              │\n",
       "│ Goblet                     <span style=\"color: #008080; text-decoration-color: #008080; font-weight: bold\">1.736</span>            <span style=\"color: #008080; text-decoration-color: #008080; font-weight: bold\">65.036</span>                                                              │\n",
       "│ Stem                       <span style=\"color: #008080; text-decoration-color: #008080; font-weight: bold\">2.693</span>           <span style=\"color: #008080; text-decoration-color: #008080; font-weight: bold\">169.345</span>                                                              │\n",
       "│ TA                         <span style=\"color: #008080; text-decoration-color: #008080; font-weight: bold\">2.100</span>            <span style=\"color: #008080; text-decoration-color: #008080; font-weight: bold\">93.591</span>                                                              │\n",
       "│ TA.Early                   <span style=\"color: #008080; text-decoration-color: #008080; font-weight: bold\">2.848</span>           <span style=\"color: #008080; text-decoration-color: #008080; font-weight: bold\">197.737</span>                                                              │\n",
       "│ Tuft                       <span style=\"color: #008080; text-decoration-color: #008080; font-weight: bold\">0.418</span>            <span style=\"color: #008080; text-decoration-color: #008080; font-weight: bold\">17.408</span>                                                              │\n",
       "└─────────────────────────────────────────────────────────────────────────────────────────────────────────────────┘\n",
       "</pre>\n"
      ],
      "text/plain": [
       "┌─────────────────────────────────────────────────────────────────────────────────────────────────────────────────┐\n",
       "│\u001b[1m \u001b[0m\u001b[1mIntercepts                                                                                                     \u001b[0m\u001b[1m \u001b[0m│\n",
       "├─────────────────────────────────────────────────────────────────────────────────────────────────────────────────┤\n",
       "│                        Final Parameter  Expected Sample                                                         │\n",
       "│ Cell Type                                                                                                       │\n",
       "│ Endocrine                  \u001b[1;36m1.108\u001b[0m            \u001b[1;36m34.707\u001b[0m                                                              │\n",
       "│ Enterocyte                 \u001b[1;36m2.322\u001b[0m           \u001b[1;36m116.855\u001b[0m                                                              │\n",
       "│ Enterocyte.Progenitor      \u001b[1;36m2.505\u001b[0m           \u001b[1;36m140.322\u001b[0m                                                              │\n",
       "│ Goblet                     \u001b[1;36m1.736\u001b[0m            \u001b[1;36m65.036\u001b[0m                                                              │\n",
       "│ Stem                       \u001b[1;36m2.693\u001b[0m           \u001b[1;36m169.345\u001b[0m                                                              │\n",
       "│ TA                         \u001b[1;36m2.100\u001b[0m            \u001b[1;36m93.591\u001b[0m                                                              │\n",
       "│ TA.Early                   \u001b[1;36m2.848\u001b[0m           \u001b[1;36m197.737\u001b[0m                                                              │\n",
       "│ Tuft                       \u001b[1;36m0.418\u001b[0m            \u001b[1;36m17.408\u001b[0m                                                              │\n",
       "└─────────────────────────────────────────────────────────────────────────────────────────────────────────────────┘\n"
      ]
     },
     "metadata": {},
     "output_type": "display_data"
    },
    {
     "data": {
      "text/html": [
       "<pre style=\"white-space:pre;overflow-x:auto;line-height:normal;font-family:Menlo,'DejaVu Sans Mono',consolas,'Courier New',monospace\">┌─────────────────────────────────────────────────────────────────────────────────────────────────────────────────┐\n",
       "│<span style=\"font-weight: bold\"> Effects                                                                                                         </span>│\n",
       "├─────────────────────────────────────────────────────────────────────────────────────────────────────────────────┤\n",
       "│                                              Final Parameter  Expected Sample  log2-fold change                 │\n",
       "│ Covariate             Cell Type                                                                                 │\n",
       "│ conditionT.Salmonella Endocrine                  <span style=\"color: #008080; text-decoration-color: #008080; font-weight: bold\">0.000</span>            <span style=\"color: #008080; text-decoration-color: #008080; font-weight: bold\">24.806</span>            <span style=\"color: #008080; text-decoration-color: #008080; font-weight: bold\">-0.485</span>                      │\n",
       "│                       Enterocyte                 <span style=\"color: #008080; text-decoration-color: #008080; font-weight: bold\">1.349</span>           <span style=\"color: #008080; text-decoration-color: #008080; font-weight: bold\">321.728</span>             <span style=\"color: #008080; text-decoration-color: #008080; font-weight: bold\">1.461</span>                      │\n",
       "│                       Enterocyte.Progenitor      <span style=\"color: #008080; text-decoration-color: #008080; font-weight: bold\">0.000</span>           <span style=\"color: #008080; text-decoration-color: #008080; font-weight: bold\">100.291</span>            <span style=\"color: #008080; text-decoration-color: #008080; font-weight: bold\">-0.485</span>                      │\n",
       "│                       Goblet                     <span style=\"color: #008080; text-decoration-color: #008080; font-weight: bold\">0.000</span>            <span style=\"color: #008080; text-decoration-color: #008080; font-weight: bold\">46.482</span>            <span style=\"color: #008080; text-decoration-color: #008080; font-weight: bold\">-0.485</span>                      │\n",
       "│                       Stem                       <span style=\"color: #008080; text-decoration-color: #008080; font-weight: bold\">0.000</span>           <span style=\"color: #008080; text-decoration-color: #008080; font-weight: bold\">121.034</span>            <span style=\"color: #008080; text-decoration-color: #008080; font-weight: bold\">-0.485</span>                      │\n",
       "│                       TA                         <span style=\"color: #008080; text-decoration-color: #008080; font-weight: bold\">0.000</span>            <span style=\"color: #008080; text-decoration-color: #008080; font-weight: bold\">66.891</span>            <span style=\"color: #008080; text-decoration-color: #008080; font-weight: bold\">-0.485</span>                      │\n",
       "│                       TA.Early                   <span style=\"color: #008080; text-decoration-color: #008080; font-weight: bold\">0.000</span>           <span style=\"color: #008080; text-decoration-color: #008080; font-weight: bold\">141.326</span>            <span style=\"color: #008080; text-decoration-color: #008080; font-weight: bold\">-0.485</span>                      │\n",
       "│                       Tuft                       <span style=\"color: #008080; text-decoration-color: #008080; font-weight: bold\">0.000</span>            <span style=\"color: #008080; text-decoration-color: #008080; font-weight: bold\">12.442</span>            <span style=\"color: #008080; text-decoration-color: #008080; font-weight: bold\">-0.485</span>                      │\n",
       "└─────────────────────────────────────────────────────────────────────────────────────────────────────────────────┘\n",
       "</pre>\n"
      ],
      "text/plain": [
       "┌─────────────────────────────────────────────────────────────────────────────────────────────────────────────────┐\n",
       "│\u001b[1m \u001b[0m\u001b[1mEffects                                                                                                        \u001b[0m\u001b[1m \u001b[0m│\n",
       "├─────────────────────────────────────────────────────────────────────────────────────────────────────────────────┤\n",
       "│                                              Final Parameter  Expected Sample  log2-fold change                 │\n",
       "│ Covariate             Cell Type                                                                                 │\n",
       "│ conditionT.Salmonella Endocrine                  \u001b[1;36m0.000\u001b[0m            \u001b[1;36m24.806\u001b[0m            \u001b[1;36m-0.485\u001b[0m                      │\n",
       "│                       Enterocyte                 \u001b[1;36m1.349\u001b[0m           \u001b[1;36m321.728\u001b[0m             \u001b[1;36m1.461\u001b[0m                      │\n",
       "│                       Enterocyte.Progenitor      \u001b[1;36m0.000\u001b[0m           \u001b[1;36m100.291\u001b[0m            \u001b[1;36m-0.485\u001b[0m                      │\n",
       "│                       Goblet                     \u001b[1;36m0.000\u001b[0m            \u001b[1;36m46.482\u001b[0m            \u001b[1;36m-0.485\u001b[0m                      │\n",
       "│                       Stem                       \u001b[1;36m0.000\u001b[0m           \u001b[1;36m121.034\u001b[0m            \u001b[1;36m-0.485\u001b[0m                      │\n",
       "│                       TA                         \u001b[1;36m0.000\u001b[0m            \u001b[1;36m66.891\u001b[0m            \u001b[1;36m-0.485\u001b[0m                      │\n",
       "│                       TA.Early                   \u001b[1;36m0.000\u001b[0m           \u001b[1;36m141.326\u001b[0m            \u001b[1;36m-0.485\u001b[0m                      │\n",
       "│                       Tuft                       \u001b[1;36m0.000\u001b[0m            \u001b[1;36m12.442\u001b[0m            \u001b[1;36m-0.485\u001b[0m                      │\n",
       "└─────────────────────────────────────────────────────────────────────────────────────────────────────────────────┘\n"
      ]
     },
     "metadata": {},
     "output_type": "display_data"
    }
   ],
   "source": [
    "sccoda_model.summary(sccoda_data, modality_key=\"coda_salm\")"
   ]
  },
  {
   "cell_type": "markdown",
   "metadata": {},
   "source": [
    "**Model properties**\n",
    "\n",
    "First, the summary shows an overview over the model properties:\n",
    "\n",
    "* Number of samples/cell types\n",
    "* The reference cell type.\n",
    "* The formula used\n",
    "\n",
    "The model has two types of parameters that are relevant for analysis - intercepts and effects.\n",
    "These can be interpreted like in a standard regression model:\n",
    "Intercepts show how the cell types are distributed without any active covariates, effects show how the covariates influence the cell types.\n",
    "\n",
    "**Intercepts**\n",
    "\n",
    "The first column of the intercept summary shows the parameters determined by the MCMC inference.\n",
    "\n",
    "The \"Expected sample\" column gives some context to the numerical values.\n",
    "If we had a new sample (with no active covariates) with a total number of cells equal to the mean sampling depth of the dataset,\n",
    "then this distribution over the cell types would be most likely.\n",
    "\n",
    "**Effects**\n",
    "\n",
    "For the effect summary, the first column again shows the inferred parameters for all combinations of covariates and cell types.\n",
    "Most important is the distinctions between zero and non-zero entries\n",
    "A value of zero means that no statistically credible effect was detected.\n",
    "For a value other than zero, a credible change was detected. A positive sign indicates an increase, a negative sign a decrease in abundance.\n",
    "\n",
    "Since the numerical values of the \"Final Parameter\" column are not straightforward to interpret, the \"Expected sample\" and \"log2-fold change\" columns give us an idea on the magnitude of the change.\n",
    "The expected sample is calculated for each covariate separately (covariate value = 1, all other covariates = 0), with the same method as for the intercepts.\n",
    "The log-fold change is then calculated between this expected sample and the expected sample with no active covariates from the intercept section.\n",
    "Since the data is compositional, cell types for which no credible change was detected, can still change in abundance as well, as soon as a credible effect is detected on another cell type due to the sum-to-one constraint.\n",
    "If there are no credible effects for a covariate, its expected sample will be identical to the intercept sample, therefore the log2-fold change is 0.\n",
    "\n",
    "**Interpretation**\n",
    "\n",
    "In the salmonella case, we see only a credible increase of Enterocytes, while all other cell types are unaffected by the disease.\n",
    "The log-fold change of Enterocytes between control and infected samples with the same total cell count lies at about 1.46.\n",
    "\n",
    "We can also easily filter out all credible effects:"
   ]
  },
  {
   "cell_type": "code",
   "execution_count": 9,
   "metadata": {
    "collapsed": false
   },
   "outputs": [
    {
     "data": {
      "text/plain": [
       "Covariate                Cell Type            \n",
       "condition[T.Salmonella]  Endocrine                False\n",
       "                         Enterocyte                True\n",
       "                         Enterocyte.Progenitor    False\n",
       "                         Goblet                   False\n",
       "                         Stem                     False\n",
       "                         TA                       False\n",
       "                         TA.Early                 False\n",
       "                         Tuft                     False\n",
       "Name: Final Parameter, dtype: bool"
      ]
     },
     "execution_count": 9,
     "metadata": {},
     "output_type": "execute_result"
    }
   ],
   "source": [
    "sccoda_model.credible_effects(sccoda_data, modality_key=\"coda_salm\")"
   ]
  },
  {
   "cell_type": "markdown",
   "metadata": {},
   "source": [
    "We can also visualize the results as a barplot:"
   ]
  },
  {
   "cell_type": "code",
   "execution_count": 10,
   "metadata": {
    "collapsed": false
   },
   "outputs": [
    {
     "data": {
      "image/png": "[encoded data removed]",
      "text/plain": [
       "<Figure size 600x300 with 1 Axes>"
      ]
     },
     "metadata": {},
     "output_type": "display_data"
    }
   ],
   "source": [
    "sccoda_model.plot_effects_barplot(sccoda_data, modality_key=\"coda_salm\", parameter=\"Final Parameter\")"
   ]
  },
  {
   "cell_type": "markdown",
   "metadata": {},
   "source": [
    "## Adjusting the False discovery rate\n",
    "\n",
    "scCODA selects credible effects based on their inclusion probability.\n",
    "The cutoff between credible and non-credible effects depends on the desired false discovery rate (FDR).\n",
    "A smaller FDR value will produce more conservative results, but might miss some effects,\n",
    "while a larger FDR value selects more effects at the cost of a larger number of false discoveries.\n",
    "\n",
    "The desired FDR level can be easily set after inference via `sim_results.set_fdr()`. Per default, the value is 0.05,\n",
    "but we recommend to increase it up to 0.2 if no effects are found at a more conservative level.\n",
    "\n",
    "In our example, setting a desired FDR of 0.4 reveals small effects on Endocrine and Tuft cells. Keep in mind that we chose this value only for instructive purposes, since there are no credible effects beside Enterocytes at lower FDR levels. In practice, expecting 40% of all credible effects to be false-positives is usually not recommended."
   ]
  },
  {
   "cell_type": "code",
   "execution_count": 11,
   "metadata": {
    "collapsed": false
   },
   "outputs": [
    {
     "data": {
      "text/html": [
       "<pre style=\"white-space:pre;overflow-x:auto;line-height:normal;font-family:Menlo,'DejaVu Sans Mono',consolas,'Courier New',monospace\"><span style=\"font-style: italic\">                                          Compositional Analysis summary                                           </span>\n",
       "┌──────────────────────────────────────────────┬──────────────────────────────────────────────────────────────────┐\n",
       "│<span style=\"font-weight: bold\"> Name                                         </span>│<span style=\"font-weight: bold\"> Value                                                            </span>│\n",
       "├──────────────────────────────────────────────┼──────────────────────────────────────────────────────────────────┤\n",
       "│<span style=\"color: #008080; text-decoration-color: #008080\"> Data                                         </span>│ Data: <span style=\"color: #008080; text-decoration-color: #008080; font-weight: bold\">6</span> samples, <span style=\"color: #008080; text-decoration-color: #008080; font-weight: bold\">8</span> cell types                                    │\n",
       "│<span style=\"color: #008080; text-decoration-color: #008080\"> Reference cell type                          </span>│ Goblet                                                           │\n",
       "│<span style=\"color: #008080; text-decoration-color: #008080\"> Formula                                      </span>│ condition                                                        │\n",
       "└──────────────────────────────────────────────┴──────────────────────────────────────────────────────────────────┘\n",
       "</pre>\n"
      ],
      "text/plain": [
       "\u001b[3m                                          Compositional Analysis summary                                           \u001b[0m\n",
       "┌──────────────────────────────────────────────┬──────────────────────────────────────────────────────────────────┐\n",
       "│\u001b[1m \u001b[0m\u001b[1mName                                        \u001b[0m\u001b[1m \u001b[0m│\u001b[1m \u001b[0m\u001b[1mValue                                                           \u001b[0m\u001b[1m \u001b[0m│\n",
       "├──────────────────────────────────────────────┼──────────────────────────────────────────────────────────────────┤\n",
       "│\u001b[36m \u001b[0m\u001b[36mData                                        \u001b[0m\u001b[36m \u001b[0m│ Data: \u001b[1;36m6\u001b[0m samples, \u001b[1;36m8\u001b[0m cell types                                    │\n",
       "│\u001b[36m \u001b[0m\u001b[36mReference cell type                         \u001b[0m\u001b[36m \u001b[0m│ Goblet                                                           │\n",
       "│\u001b[36m \u001b[0m\u001b[36mFormula                                     \u001b[0m\u001b[36m \u001b[0m│ condition                                                        │\n",
       "└──────────────────────────────────────────────┴──────────────────────────────────────────────────────────────────┘\n"
      ]
     },
     "metadata": {},
     "output_type": "display_data"
    },
    {
     "data": {
      "text/html": [
       "<pre style=\"white-space:pre;overflow-x:auto;line-height:normal;font-family:Menlo,'DejaVu Sans Mono',consolas,'Courier New',monospace\">┌─────────────────────────────────────────────────────────────────────────────────────────────────────────────────┐\n",
       "│<span style=\"font-weight: bold\"> Intercepts                                                                                                      </span>│\n",
       "├─────────────────────────────────────────────────────────────────────────────────────────────────────────────────┤\n",
       "│                        Final Parameter  Expected Sample                                                         │\n",
       "│ Cell Type                                                                                                       │\n",
       "│ Endocrine                  <span style=\"color: #008080; text-decoration-color: #008080; font-weight: bold\">1.108</span>            <span style=\"color: #008080; text-decoration-color: #008080; font-weight: bold\">34.707</span>                                                              │\n",
       "│ Enterocyte                 <span style=\"color: #008080; text-decoration-color: #008080; font-weight: bold\">2.322</span>           <span style=\"color: #008080; text-decoration-color: #008080; font-weight: bold\">116.855</span>                                                              │\n",
       "│ Enterocyte.Progenitor      <span style=\"color: #008080; text-decoration-color: #008080; font-weight: bold\">2.505</span>           <span style=\"color: #008080; text-decoration-color: #008080; font-weight: bold\">140.322</span>                                                              │\n",
       "│ Goblet                     <span style=\"color: #008080; text-decoration-color: #008080; font-weight: bold\">1.736</span>            <span style=\"color: #008080; text-decoration-color: #008080; font-weight: bold\">65.036</span>                                                              │\n",
       "│ Stem                       <span style=\"color: #008080; text-decoration-color: #008080; font-weight: bold\">2.693</span>           <span style=\"color: #008080; text-decoration-color: #008080; font-weight: bold\">169.345</span>                                                              │\n",
       "│ TA                         <span style=\"color: #008080; text-decoration-color: #008080; font-weight: bold\">2.100</span>            <span style=\"color: #008080; text-decoration-color: #008080; font-weight: bold\">93.591</span>                                                              │\n",
       "│ TA.Early                   <span style=\"color: #008080; text-decoration-color: #008080; font-weight: bold\">2.848</span>           <span style=\"color: #008080; text-decoration-color: #008080; font-weight: bold\">197.737</span>                                                              │\n",
       "│ Tuft                       <span style=\"color: #008080; text-decoration-color: #008080; font-weight: bold\">0.418</span>            <span style=\"color: #008080; text-decoration-color: #008080; font-weight: bold\">17.408</span>                                                              │\n",
       "└─────────────────────────────────────────────────────────────────────────────────────────────────────────────────┘\n",
       "</pre>\n"
      ],
      "text/plain": [
       "┌─────────────────────────────────────────────────────────────────────────────────────────────────────────────────┐\n",
       "│\u001b[1m \u001b[0m\u001b[1mIntercepts                                                                                                     \u001b[0m\u001b[1m \u001b[0m│\n",
       "├─────────────────────────────────────────────────────────────────────────────────────────────────────────────────┤\n",
       "│                        Final Parameter  Expected Sample                                                         │\n",
       "│ Cell Type                                                                                                       │\n",
       "│ Endocrine                  \u001b[1;36m1.108\u001b[0m            \u001b[1;36m34.707\u001b[0m                                                              │\n",
       "│ Enterocyte                 \u001b[1;36m2.322\u001b[0m           \u001b[1;36m116.855\u001b[0m                                                              │\n",
       "│ Enterocyte.Progenitor      \u001b[1;36m2.505\u001b[0m           \u001b[1;36m140.322\u001b[0m                                                              │\n",
       "│ Goblet                     \u001b[1;36m1.736\u001b[0m            \u001b[1;36m65.036\u001b[0m                                                              │\n",
       "│ Stem                       \u001b[1;36m2.693\u001b[0m           \u001b[1;36m169.345\u001b[0m                                                              │\n",
       "│ TA                         \u001b[1;36m2.100\u001b[0m            \u001b[1;36m93.591\u001b[0m                                                              │\n",
       "│ TA.Early                   \u001b[1;36m2.848\u001b[0m           \u001b[1;36m197.737\u001b[0m                                                              │\n",
       "│ Tuft                       \u001b[1;36m0.418\u001b[0m            \u001b[1;36m17.408\u001b[0m                                                              │\n",
       "└─────────────────────────────────────────────────────────────────────────────────────────────────────────────────┘\n"
      ]
     },
     "metadata": {},
     "output_type": "display_data"
    },
    {
     "data": {
      "text/html": [
       "<pre style=\"white-space:pre;overflow-x:auto;line-height:normal;font-family:Menlo,'DejaVu Sans Mono',consolas,'Courier New',monospace\">┌─────────────────────────────────────────────────────────────────────────────────────────────────────────────────┐\n",
       "│<span style=\"font-weight: bold\"> Effects                                                                                                         </span>│\n",
       "├─────────────────────────────────────────────────────────────────────────────────────────────────────────────────┤\n",
       "│                                              Final Parameter  Expected Sample  log2-fold change                 │\n",
       "│ Covariate             Cell Type                                                                                 │\n",
       "│ conditionT.Salmonella Endocrine                  <span style=\"color: #008080; text-decoration-color: #008080; font-weight: bold\">0.277</span>            <span style=\"color: #008080; text-decoration-color: #008080; font-weight: bold\">32.411</span>            <span style=\"color: #008080; text-decoration-color: #008080; font-weight: bold\">-0.099</span>                      │\n",
       "│                       Enterocyte                 <span style=\"color: #008080; text-decoration-color: #008080; font-weight: bold\">1.349</span>           <span style=\"color: #008080; text-decoration-color: #008080; font-weight: bold\">318.685</span>             <span style=\"color: #008080; text-decoration-color: #008080; font-weight: bold\">1.447</span>                      │\n",
       "│                       Enterocyte.Progenitor      <span style=\"color: #008080; text-decoration-color: #008080; font-weight: bold\">0.000</span>            <span style=\"color: #008080; text-decoration-color: #008080; font-weight: bold\">99.342</span>            <span style=\"color: #008080; text-decoration-color: #008080; font-weight: bold\">-0.498</span>                      │\n",
       "│                       Goblet                     <span style=\"color: #008080; text-decoration-color: #008080; font-weight: bold\">0.000</span>            <span style=\"color: #008080; text-decoration-color: #008080; font-weight: bold\">46.043</span>            <span style=\"color: #008080; text-decoration-color: #008080; font-weight: bold\">-0.498</span>                      │\n",
       "│                       Stem                       <span style=\"color: #008080; text-decoration-color: #008080; font-weight: bold\">0.000</span>           <span style=\"color: #008080; text-decoration-color: #008080; font-weight: bold\">119.889</span>            <span style=\"color: #008080; text-decoration-color: #008080; font-weight: bold\">-0.498</span>                      │\n",
       "│                       TA                         <span style=\"color: #008080; text-decoration-color: #008080; font-weight: bold\">0.000</span>            <span style=\"color: #008080; text-decoration-color: #008080; font-weight: bold\">66.259</span>            <span style=\"color: #008080; text-decoration-color: #008080; font-weight: bold\">-0.498</span>                      │\n",
       "│                       TA.Early                   <span style=\"color: #008080; text-decoration-color: #008080; font-weight: bold\">0.000</span>           <span style=\"color: #008080; text-decoration-color: #008080; font-weight: bold\">139.990</span>            <span style=\"color: #008080; text-decoration-color: #008080; font-weight: bold\">-0.498</span>                      │\n",
       "│                       Tuft                       <span style=\"color: #008080; text-decoration-color: #008080; font-weight: bold\">0.005</span>            <span style=\"color: #008080; text-decoration-color: #008080; font-weight: bold\">12.383</span>            <span style=\"color: #008080; text-decoration-color: #008080; font-weight: bold\">-0.491</span>                      │\n",
       "└─────────────────────────────────────────────────────────────────────────────────────────────────────────────────┘\n",
       "</pre>\n"
      ],
      "text/plain": [
       "┌─────────────────────────────────────────────────────────────────────────────────────────────────────────────────┐\n",
       "│\u001b[1m \u001b[0m\u001b[1mEffects                                                                                                        \u001b[0m\u001b[1m \u001b[0m│\n",
       "├─────────────────────────────────────────────────────────────────────────────────────────────────────────────────┤\n",
       "│                                              Final Parameter  Expected Sample  log2-fold change                 │\n",
       "│ Covariate             Cell Type                                                                                 │\n",
       "│ conditionT.Salmonella Endocrine                  \u001b[1;36m0.277\u001b[0m            \u001b[1;36m32.411\u001b[0m            \u001b[1;36m-0.099\u001b[0m                      │\n",
       "│                       Enterocyte                 \u001b[1;36m1.349\u001b[0m           \u001b[1;36m318.685\u001b[0m             \u001b[1;36m1.447\u001b[0m                      │\n",
       "│                       Enterocyte.Progenitor      \u001b[1;36m0.000\u001b[0m            \u001b[1;36m99.342\u001b[0m            \u001b[1;36m-0.498\u001b[0m                      │\n",
       "│                       Goblet                     \u001b[1;36m0.000\u001b[0m            \u001b[1;36m46.043\u001b[0m            \u001b[1;36m-0.498\u001b[0m                      │\n",
       "│                       Stem                       \u001b[1;36m0.000\u001b[0m           \u001b[1;36m119.889\u001b[0m            \u001b[1;36m-0.498\u001b[0m                      │\n",
       "│                       TA                         \u001b[1;36m0.000\u001b[0m            \u001b[1;36m66.259\u001b[0m            \u001b[1;36m-0.498\u001b[0m                      │\n",
       "│                       TA.Early                   \u001b[1;36m0.000\u001b[0m           \u001b[1;36m139.990\u001b[0m            \u001b[1;36m-0.498\u001b[0m                      │\n",
       "│                       Tuft                       \u001b[1;36m0.005\u001b[0m            \u001b[1;36m12.383\u001b[0m            \u001b[1;36m-0.491\u001b[0m                      │\n",
       "└─────────────────────────────────────────────────────────────────────────────────────────────────────────────────┘\n"
      ]
     },
     "metadata": {},
     "output_type": "display_data"
    }
   ],
   "source": [
    "sccoda_model.set_fdr(sccoda_data, modality_key=\"coda_salm\", est_fdr=0.4)\n",
    "sccoda_model.summary(sccoda_data, modality_key=\"coda_salm\")"
   ]
  },
  {
   "cell_type": "markdown",
   "metadata": {},
   "source": [
    "## Accessing & saving results\n",
    "\n",
    "The `MuData` object containing all relevant information can be saved e.g. as a `h5mu` file.\n",
    "To access the saved data object, simply load it from disk and call the respective functions using an instance of a scCODA model."
   ]
  },
  {
   "cell_type": "code",
   "execution_count": 12,
   "metadata": {
    "collapsed": false
   },
   "outputs": [
    {
     "data": {
      "text/html": [
       "<div>\n",
       "<style scoped>\n",
       "    .dataframe tbody tr th:only-of-type {\n",
       "        vertical-align: middle;\n",
       "    }\n",
       "\n",
       "    .dataframe tbody tr th {\n",
       "        vertical-align: top;\n",
       "    }\n",
       "\n",
       "    .dataframe thead th {\n",
       "        text-align: right;\n",
       "    }\n",
       "</style>\n",
       "<table border=\"1\" class=\"dataframe\">\n",
       "  <thead>\n",
       "    <tr style=\"text-align: right;\">\n",
       "      <th></th>\n",
       "      <th>Final Parameter</th>\n",
       "      <th>HDI 3%</th>\n",
       "      <th>HDI 97%</th>\n",
       "      <th>SD</th>\n",
       "      <th>Expected Sample</th>\n",
       "    </tr>\n",
       "    <tr>\n",
       "      <th>Cell Type</th>\n",
       "      <th></th>\n",
       "      <th></th>\n",
       "      <th></th>\n",
       "      <th></th>\n",
       "      <th></th>\n",
       "    </tr>\n",
       "  </thead>\n",
       "  <tbody>\n",
       "    <tr>\n",
       "      <th>Endocrine</th>\n",
       "      <td>1.108</td>\n",
       "      <td>0.401</td>\n",
       "      <td>1.784</td>\n",
       "      <td>0.367</td>\n",
       "      <td>34.706822</td>\n",
       "    </tr>\n",
       "    <tr>\n",
       "      <th>Enterocyte</th>\n",
       "      <td>2.322</td>\n",
       "      <td>1.745</td>\n",
       "      <td>2.906</td>\n",
       "      <td>0.312</td>\n",
       "      <td>116.855284</td>\n",
       "    </tr>\n",
       "    <tr>\n",
       "      <th>Enterocyte.Progenitor</th>\n",
       "      <td>2.505</td>\n",
       "      <td>1.922</td>\n",
       "      <td>3.087</td>\n",
       "      <td>0.312</td>\n",
       "      <td>140.321509</td>\n",
       "    </tr>\n",
       "    <tr>\n",
       "      <th>Goblet</th>\n",
       "      <td>1.736</td>\n",
       "      <td>1.129</td>\n",
       "      <td>2.347</td>\n",
       "      <td>0.322</td>\n",
       "      <td>65.035695</td>\n",
       "    </tr>\n",
       "    <tr>\n",
       "      <th>Stem</th>\n",
       "      <td>2.693</td>\n",
       "      <td>2.093</td>\n",
       "      <td>3.275</td>\n",
       "      <td>0.313</td>\n",
       "      <td>169.344699</td>\n",
       "    </tr>\n",
       "    <tr>\n",
       "      <th>TA</th>\n",
       "      <td>2.100</td>\n",
       "      <td>1.453</td>\n",
       "      <td>2.699</td>\n",
       "      <td>0.331</td>\n",
       "      <td>93.591192</td>\n",
       "    </tr>\n",
       "    <tr>\n",
       "      <th>TA.Early</th>\n",
       "      <td>2.848</td>\n",
       "      <td>2.269</td>\n",
       "      <td>3.418</td>\n",
       "      <td>0.305</td>\n",
       "      <td>197.736686</td>\n",
       "    </tr>\n",
       "    <tr>\n",
       "      <th>Tuft</th>\n",
       "      <td>0.418</td>\n",
       "      <td>-0.400</td>\n",
       "      <td>1.100</td>\n",
       "      <td>0.398</td>\n",
       "      <td>17.408112</td>\n",
       "    </tr>\n",
       "  </tbody>\n",
       "</table>\n",
       "</div>"
      ],
      "text/plain": [
       "                       Final Parameter  HDI 3%  HDI 97%     SD  \\\n",
       "Cell Type                                                        \n",
       "Endocrine                        1.108   0.401    1.784  0.367   \n",
       "Enterocyte                       2.322   1.745    2.906  0.312   \n",
       "Enterocyte.Progenitor            2.505   1.922    3.087  0.312   \n",
       "Goblet                           1.736   1.129    2.347  0.322   \n",
       "Stem                             2.693   2.093    3.275  0.313   \n",
       "TA                               2.100   1.453    2.699  0.331   \n",
       "TA.Early                         2.848   2.269    3.418  0.305   \n",
       "Tuft                             0.418  -0.400    1.100  0.398   \n",
       "\n",
       "                       Expected Sample  \n",
       "Cell Type                               \n",
       "Endocrine                    34.706822  \n",
       "Enterocyte                  116.855284  \n",
       "Enterocyte.Progenitor       140.321509  \n",
       "Goblet                       65.035695  \n",
       "Stem                        169.344699  \n",
       "TA                           93.591192  \n",
       "TA.Early                    197.736686  \n",
       "Tuft                         17.408112  "
      ]
     },
     "execution_count": 12,
     "metadata": {},
     "output_type": "execute_result"
    }
   ],
   "source": [
    "sccoda_model.get_intercept_df(sccoda_data, modality_key=\"coda_salm\")"
   ]
  },
  {
   "cell_type": "code",
   "execution_count": 13,
   "metadata": {
    "collapsed": false
   },
   "outputs": [
    {
     "data": {
      "text/html": [
       "<div>\n",
       "<style scoped>\n",
       "    .dataframe tbody tr th:only-of-type {\n",
       "        vertical-align: middle;\n",
       "    }\n",
       "\n",
       "    .dataframe tbody tr th {\n",
       "        vertical-align: top;\n",
       "    }\n",
       "\n",
       "    .dataframe thead th {\n",
       "        text-align: right;\n",
       "    }\n",
       "</style>\n",
       "<table border=\"1\" class=\"dataframe\">\n",
       "  <thead>\n",
       "    <tr style=\"text-align: right;\">\n",
       "      <th></th>\n",
       "      <th></th>\n",
       "      <th>Final Parameter</th>\n",
       "      <th>HDI 3%</th>\n",
       "      <th>HDI 97%</th>\n",
       "      <th>SD</th>\n",
       "      <th>Inclusion probability</th>\n",
       "      <th>Expected Sample</th>\n",
       "      <th>log2-fold change</th>\n",
       "    </tr>\n",
       "    <tr>\n",
       "      <th>Covariate</th>\n",
       "      <th>Cell Type</th>\n",
       "      <th></th>\n",
       "      <th></th>\n",
       "      <th></th>\n",
       "      <th></th>\n",
       "      <th></th>\n",
       "      <th></th>\n",
       "      <th></th>\n",
       "    </tr>\n",
       "  </thead>\n",
       "  <tbody>\n",
       "    <tr>\n",
       "      <th rowspan=\"8\" valign=\"top\">conditionT.Salmonella</th>\n",
       "      <th>Endocrine</th>\n",
       "      <td>0.276925</td>\n",
       "      <td>-0.470</td>\n",
       "      <td>1.164</td>\n",
       "      <td>0.323</td>\n",
       "      <td>0.4417</td>\n",
       "      <td>32.410827</td>\n",
       "      <td>-0.098743</td>\n",
       "    </tr>\n",
       "    <tr>\n",
       "      <th>Enterocyte</th>\n",
       "      <td>1.348634</td>\n",
       "      <td>0.821</td>\n",
       "      <td>1.822</td>\n",
       "      <td>0.266</td>\n",
       "      <td>0.9999</td>\n",
       "      <td>318.684555</td>\n",
       "      <td>1.447406</td>\n",
       "    </tr>\n",
       "    <tr>\n",
       "      <th>Enterocyte.Progenitor</th>\n",
       "      <td>0.000000</td>\n",
       "      <td>-0.399</td>\n",
       "      <td>0.613</td>\n",
       "      <td>0.158</td>\n",
       "      <td>0.3243</td>\n",
       "      <td>99.341920</td>\n",
       "      <td>-0.498262</td>\n",
       "    </tr>\n",
       "    <tr>\n",
       "      <th>Goblet</th>\n",
       "      <td>0.000000</td>\n",
       "      <td>0.000</td>\n",
       "      <td>0.000</td>\n",
       "      <td>0.000</td>\n",
       "      <td>0.0000</td>\n",
       "      <td>46.042627</td>\n",
       "      <td>-0.498262</td>\n",
       "    </tr>\n",
       "    <tr>\n",
       "      <th>Stem</th>\n",
       "      <td>0.000000</td>\n",
       "      <td>-0.788</td>\n",
       "      <td>0.206</td>\n",
       "      <td>0.211</td>\n",
       "      <td>0.3779</td>\n",
       "      <td>119.889159</td>\n",
       "      <td>-0.498262</td>\n",
       "    </tr>\n",
       "    <tr>\n",
       "      <th>TA</th>\n",
       "      <td>0.000000</td>\n",
       "      <td>-0.912</td>\n",
       "      <td>0.323</td>\n",
       "      <td>0.233</td>\n",
       "      <td>0.3774</td>\n",
       "      <td>66.258757</td>\n",
       "      <td>-0.498262</td>\n",
       "    </tr>\n",
       "    <tr>\n",
       "      <th>TA.Early</th>\n",
       "      <td>0.000000</td>\n",
       "      <td>-0.439</td>\n",
       "      <td>0.484</td>\n",
       "      <td>0.131</td>\n",
       "      <td>0.2921</td>\n",
       "      <td>139.989531</td>\n",
       "      <td>-0.498262</td>\n",
       "    </tr>\n",
       "    <tr>\n",
       "      <th>Tuft</th>\n",
       "      <td>0.004726</td>\n",
       "      <td>-0.989</td>\n",
       "      <td>0.878</td>\n",
       "      <td>0.312</td>\n",
       "      <td>0.4136</td>\n",
       "      <td>12.382623</td>\n",
       "      <td>-0.491443</td>\n",
       "    </tr>\n",
       "  </tbody>\n",
       "</table>\n",
       "</div>"
      ],
      "text/plain": [
       "                                             Final Parameter  HDI 3%  HDI 97%  \\\n",
       "Covariate             Cell Type                                                 \n",
       "conditionT.Salmonella Endocrine                     0.276925  -0.470    1.164   \n",
       "                      Enterocyte                    1.348634   0.821    1.822   \n",
       "                      Enterocyte.Progenitor         0.000000  -0.399    0.613   \n",
       "                      Goblet                        0.000000   0.000    0.000   \n",
       "                      Stem                          0.000000  -0.788    0.206   \n",
       "                      TA                            0.000000  -0.912    0.323   \n",
       "                      TA.Early                      0.000000  -0.439    0.484   \n",
       "                      Tuft                          0.004726  -0.989    0.878   \n",
       "\n",
       "                                                SD  Inclusion probability  \\\n",
       "Covariate             Cell Type                                             \n",
       "conditionT.Salmonella Endocrine              0.323                 0.4417   \n",
       "                      Enterocyte             0.266                 0.9999   \n",
       "                      Enterocyte.Progenitor  0.158                 0.3243   \n",
       "                      Goblet                 0.000                 0.0000   \n",
       "                      Stem                   0.211                 0.3779   \n",
       "                      TA                     0.233                 0.3774   \n",
       "                      TA.Early               0.131                 0.2921   \n",
       "                      Tuft                   0.312                 0.4136   \n",
       "\n",
       "                                             Expected Sample  log2-fold change  \n",
       "Covariate             Cell Type                                                 \n",
       "conditionT.Salmonella Endocrine                    32.410827         -0.098743  \n",
       "                      Enterocyte                  318.684555          1.447406  \n",
       "                      Enterocyte.Progenitor        99.341920         -0.498262  \n",
       "                      Goblet                       46.042627         -0.498262  \n",
       "                      Stem                        119.889159         -0.498262  \n",
       "                      TA                           66.258757         -0.498262  \n",
       "                      TA.Early                    139.989531         -0.498262  \n",
       "                      Tuft                         12.382623         -0.491443  "
      ]
     },
     "execution_count": 13,
     "metadata": {},
     "output_type": "execute_result"
    }
   ],
   "source": [
    "sccoda_model.get_effect_df(sccoda_data, modality_key=\"coda_salm\")"
   ]
  },
  {
   "cell_type": "code",
   "execution_count": 14,
   "metadata": {
    "collapsed": false
   },
   "outputs": [
    {
     "data": {
      "text/html": [
       "<div>\n",
       "<style scoped>\n",
       "    .dataframe tbody tr th:only-of-type {\n",
       "        vertical-align: middle;\n",
       "    }\n",
       "\n",
       "    .dataframe tbody tr th {\n",
       "        vertical-align: top;\n",
       "    }\n",
       "\n",
       "    .dataframe thead th {\n",
       "        text-align: right;\n",
       "    }\n",
       "</style>\n",
       "<table border=\"1\" class=\"dataframe\">\n",
       "  <thead>\n",
       "    <tr style=\"text-align: right;\">\n",
       "      <th></th>\n",
       "      <th>Final Parameter</th>\n",
       "      <th>HDI 3%</th>\n",
       "      <th>HDI 97%</th>\n",
       "      <th>SD</th>\n",
       "      <th>Expected Sample</th>\n",
       "    </tr>\n",
       "    <tr>\n",
       "      <th>Cell Type</th>\n",
       "      <th></th>\n",
       "      <th></th>\n",
       "      <th></th>\n",
       "      <th></th>\n",
       "      <th></th>\n",
       "    </tr>\n",
       "  </thead>\n",
       "  <tbody>\n",
       "    <tr>\n",
       "      <th>Endocrine</th>\n",
       "      <td>1.108</td>\n",
       "      <td>0.401</td>\n",
       "      <td>1.784</td>\n",
       "      <td>0.367</td>\n",
       "      <td>34.706822</td>\n",
       "    </tr>\n",
       "    <tr>\n",
       "      <th>Enterocyte</th>\n",
       "      <td>2.322</td>\n",
       "      <td>1.745</td>\n",
       "      <td>2.906</td>\n",
       "      <td>0.312</td>\n",
       "      <td>116.855284</td>\n",
       "    </tr>\n",
       "    <tr>\n",
       "      <th>Enterocyte.Progenitor</th>\n",
       "      <td>2.505</td>\n",
       "      <td>1.922</td>\n",
       "      <td>3.087</td>\n",
       "      <td>0.312</td>\n",
       "      <td>140.321509</td>\n",
       "    </tr>\n",
       "    <tr>\n",
       "      <th>Goblet</th>\n",
       "      <td>1.736</td>\n",
       "      <td>1.129</td>\n",
       "      <td>2.347</td>\n",
       "      <td>0.322</td>\n",
       "      <td>65.035695</td>\n",
       "    </tr>\n",
       "    <tr>\n",
       "      <th>Stem</th>\n",
       "      <td>2.693</td>\n",
       "      <td>2.093</td>\n",
       "      <td>3.275</td>\n",
       "      <td>0.313</td>\n",
       "      <td>169.344699</td>\n",
       "    </tr>\n",
       "    <tr>\n",
       "      <th>TA</th>\n",
       "      <td>2.100</td>\n",
       "      <td>1.453</td>\n",
       "      <td>2.699</td>\n",
       "      <td>0.331</td>\n",
       "      <td>93.591192</td>\n",
       "    </tr>\n",
       "    <tr>\n",
       "      <th>TA.Early</th>\n",
       "      <td>2.848</td>\n",
       "      <td>2.269</td>\n",
       "      <td>3.418</td>\n",
       "      <td>0.305</td>\n",
       "      <td>197.736686</td>\n",
       "    </tr>\n",
       "    <tr>\n",
       "      <th>Tuft</th>\n",
       "      <td>0.418</td>\n",
       "      <td>-0.400</td>\n",
       "      <td>1.100</td>\n",
       "      <td>0.398</td>\n",
       "      <td>17.408112</td>\n",
       "    </tr>\n",
       "  </tbody>\n",
       "</table>\n",
       "</div>"
      ],
      "text/plain": [
       "                       Final Parameter  HDI 3%  HDI 97%     SD  \\\n",
       "Cell Type                                                        \n",
       "Endocrine                        1.108   0.401    1.784  0.367   \n",
       "Enterocyte                       2.322   1.745    2.906  0.312   \n",
       "Enterocyte.Progenitor            2.505   1.922    3.087  0.312   \n",
       "Goblet                           1.736   1.129    2.347  0.322   \n",
       "Stem                             2.693   2.093    3.275  0.313   \n",
       "TA                               2.100   1.453    2.699  0.331   \n",
       "TA.Early                         2.848   2.269    3.418  0.305   \n",
       "Tuft                             0.418  -0.400    1.100  0.398   \n",
       "\n",
       "                       Expected Sample  \n",
       "Cell Type                               \n",
       "Endocrine                    34.706822  \n",
       "Enterocyte                  116.855284  \n",
       "Enterocyte.Progenitor       140.321509  \n",
       "Goblet                       65.035695  \n",
       "Stem                        169.344699  \n",
       "TA                           93.591192  \n",
       "TA.Early                    197.736686  \n",
       "Tuft                         17.408112  "
      ]
     },
     "execution_count": 14,
     "metadata": {},
     "output_type": "execute_result"
    }
   ],
   "source": [
    "sccoda_data[\"coda_salm\"].varm[\"intercept_df\"]"
   ]
  }
 ],
 "metadata": {
  "kernelspec": {
   "display_name": "pertpy",
   "language": "python",
   "name": "python3"
  },
  "language_info": {
   "codemirror_mode": {
    "name": "ipython",
    "version": 3
   },
   "file_extension": ".py",
   "mimetype": "text/x-python",
   "name": "python",
   "nbconvert_exporter": "python",
   "pygments_lexer": "ipython3",
   "version": "3.12.8"
  }
 },
 "nbformat": 4,
 "nbformat_minor": 4
}
