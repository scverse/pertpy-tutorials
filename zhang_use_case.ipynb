{
 "cells": [
  {
   "cell_type": "markdown",
   "source": [
    "# Use-case: Exploring perturbation effects\n",
    "\n",
    "This tutorial shows how to perform the analysis we present in Figure 4 of the [pertpy preprint](https://www.biorxiv.org/content/10.1101/2024.08.04.606516v1)."
   ],
   "metadata": {
    "collapsed": false
   },
   "id": "d61ab3d14c8a81f0"
  },
  {
   "cell_type": "code",
   "execution_count": null,
   "outputs": [],
   "source": [
    "import warnings\n",
    "warnings.filterwarnings(\"ignore\")\n",
    "\n",
    "import pertpy as pt\n",
    "import scanpy as sc\n",
    "import matplotlib.pyplot as plt\n",
    "import pandas as pd\n",
    "import seaborn as sns"
   ],
   "metadata": {
    "collapsed": false
   },
   "id": "f30159173b78e9bf"
  },
  {
   "cell_type": "markdown",
   "source": [
    "## Load and preprocess the data"
   ],
   "metadata": {
    "collapsed": false
   },
   "id": "45272fa4b0acaead"
  },
  {
   "cell_type": "code",
   "execution_count": null,
   "outputs": [],
   "source": [
    "adata = pt.dt.zhang_2021()\n",
    "adata"
   ],
   "metadata": {
    "collapsed": false
   },
   "id": "f66dc6e6f8da87fd"
  },
  {
   "cell_type": "code",
   "execution_count": null,
   "outputs": [],
   "source": [],
   "metadata": {
    "collapsed": false
   },
   "id": "64c9bd13f569e971"
  },
  {
   "cell_type": "code",
   "execution_count": null,
   "outputs": [],
   "source": [
    "# Filter to tumor samples only\n",
    "adata = adata[adata.obs[\"Origin\"] == \"t\", :].copy()\n",
    "\n",
    "# Filter out progression samples\n",
    "adata = adata[adata.obs[\"Group\"] != \"Progression\", :].copy()\n",
    "\n",
    "# Subset to partial response and stable disease and rename PR and SD\n",
    "adata = adata[adata.obs[\"Efficacy\"].isin([\"PR\", \"SD\"]), :].copy()\n",
    "adata.obs[\"Efficacy\"] = adata.obs[\"Efficacy\"].replace({\"PR\": \"Partial response\", \"SD\": \"Stable disease\"})\n",
    "\n",
    "# Filter out Mix samples\n",
    "adata = adata[adata.obs[\"Cluster\"] != \"Mix\", :].copy()\n",
    "adata"
   ],
   "metadata": {
    "collapsed": false
   },
   "id": "8cc612c92f76e0b5"
  },
  {
   "cell_type": "code",
   "execution_count": null,
   "outputs": [],
   "source": [
    "adata.obs[\"Timepoint\"] = adata.obs[\"Group\"].copy()\n",
    "adata.obs[\"Group\"] = [f\"{timepoint.split('-')[0]}-treat., {response}\" for timepoint, response in zip(adata.obs[\"Timepoint\"], adata.obs[\"Efficacy\"])]\n",
    "adata.obs[\"Group\"].value_counts()"
   ],
   "metadata": {
    "collapsed": false
   },
   "id": "8ea6d8377b42e332"
  },
  {
   "cell_type": "code",
   "execution_count": null,
   "outputs": [],
   "source": [
    "sc.pp.filter_genes(adata, min_cells=10)\n",
    "sc.pp.normalize_total(adata, target_sum=1e4)\n",
    "sc.pp.log1p(adata)\n",
    "sc.pp.highly_variable_genes(adata, n_top_genes=4000, flavor=\"seurat_v3\")"
   ],
   "metadata": {
    "collapsed": false
   },
   "id": "21e51f850515f176"
  },
  {
   "cell_type": "code",
   "execution_count": null,
   "outputs": [],
   "source": [
    "adata.raw = adata\n",
    "adata = adata[:, adata.var.highly_variable]\n",
    "adata"
   ],
   "metadata": {
    "collapsed": false
   },
   "id": "f0115c45c49f7e7"
  },
  {
   "cell_type": "code",
   "execution_count": null,
   "outputs": [],
   "source": [
    "sc.pp.scale(adata, max_value=10)\n",
    "sc.tl.pca(adata, svd_solver=\"arpack\")\n",
    "sc.pp.neighbors(adata)\n",
    "sc.tl.umap(adata)"
   ],
   "metadata": {
    "collapsed": false
   },
   "id": "ebbd70f9f6d8bca0"
  },
  {
   "cell_type": "code",
   "execution_count": null,
   "outputs": [],
   "source": [
    "sc.pl.umap(adata, color=\"Treatment\")"
   ],
   "metadata": {
    "collapsed": false
   },
   "id": "f9196d26da1da295"
  },
  {
   "cell_type": "code",
   "execution_count": null,
   "outputs": [],
   "source": [
    "sc.pl.umap(adata, color=\"Group\")"
   ],
   "metadata": {
    "collapsed": false
   },
   "id": "8f0466fc8b858dd6"
  },
  {
   "cell_type": "code",
   "execution_count": null,
   "outputs": [],
   "source": [
    "cell_type_converter = {\n",
    "    \"t_Bfoc\": \"B cell\",\n",
    "    \"t_Bmem\": \"B cell\",\n",
    "    \"t_Bn\": \"B cell\",\n",
    "    \"t_CD4\": \"CD4 T cell\",\n",
    "    \"t_CD8\": \"CD8 T cell\",\n",
    "    \"t_ILC\": \"ILC cell\",\n",
    "    \"t_Tact\": \"Activated T cell\",\n",
    "    \"t_Tn\": \"Naive T cell\",\n",
    "    \"t_Tprf\": \"Proliferating T cell\",\n",
    "    \"t_cDC\": \"Dendritic cell\",\n",
    "    \"t_mDC\": \"Dendritic cell\",\n",
    "    \"t_macro\": \"Macrophage\",\n",
    "    \"t_mast\": \"Mast cell\",\n",
    "    \"t_mono\": \"Monocyte\",\n",
    "    \"t_pB\": \"B cell\",\n",
    "    \"t_pDC\": \"Dendritic cell\",\n",
    "}\n",
    "\n",
    "cell_types = []\n",
    "for ct in adata.obs[\"Cluster\"]:\n",
    "    for key, value in cell_type_converter.items():\n",
    "        if ct.startswith(key):\n",
    "            cell_types.append(value)\n",
    "            break\n",
    "    else:\n",
    "        cell_types.append(\"n.a.\")\n",
    "adata.obs[\"Celltype\"] = cell_types\n",
    "\n",
    "sc.pl.umap(adata, color=\"Celltype\")"
   ],
   "metadata": {
    "collapsed": false
   },
   "id": "ac8d398d2eb53507"
  },
  {
   "cell_type": "markdown",
   "source": [
    "## Using a distance metric to rank perturbation effects"
   ],
   "metadata": {
    "collapsed": false
   },
   "id": "bf9ed45379eb1542"
  },
  {
   "cell_type": "code",
   "execution_count": null,
   "outputs": [],
   "source": [
    "def filter_data(adata_temp):\n",
    "    isecs = pd.crosstab(adata_temp.obs[\"Cluster\"], adata_temp.obs[\"Group\"])\n",
    "    celltypes = isecs[(isecs >0).all(axis=1)].index.values.tolist()\n",
    "    adata_temp = adata_temp[adata_temp.obs[\"Cluster\"].isin(celltypes)]\n",
    "    return adata_temp"
   ],
   "metadata": {
    "collapsed": false
   },
   "id": "3bef7868693ddae6"
  },
  {
   "cell_type": "code",
   "execution_count": null,
   "outputs": [],
   "source": [
    "adata_chemo = adata[adata.obs[\"Treatment\"] == \"Chemo\"]\n",
    "adata_chemo = filter_data(adata_chemo)\n",
    "adata_chemo.obs[\"Group\"].value_counts()"
   ],
   "metadata": {
    "collapsed": false
   },
   "id": "b5909b7726fa2107"
  },
  {
   "cell_type": "code",
   "execution_count": null,
   "outputs": [],
   "source": [
    "adata_chemo_pdl1 = adata[adata.obs[\"Treatment\"] == \"Anti-PD-L1+Chemo\"]\n",
    "adata_chemo_pdl1 = filter_data(adata_chemo_pdl1)\n",
    "adata_chemo_pdl1.obs[\"Group\"].value_counts()"
   ],
   "metadata": {
    "collapsed": false
   },
   "id": "dd5a0590e75f1ba7"
  },
  {
   "cell_type": "code",
   "execution_count": null,
   "outputs": [],
   "source": [
    "distance = pt.tl.Distance(\"mse\", obsm_key=\"X_pca\")\n",
    "df_all = distance.pairwise(adata, groupby=\"Group\", show_progressbar=False)\n",
    "\n",
    "df_chemo = distance.pairwise(adata_chemo, groupby=\"Group\", show_progressbar=False)\n",
    "\n",
    "df_chemo_pdl1 = distance.pairwise(adata_chemo_pdl1, groupby=\"Group\", show_progressbar=False)"
   ],
   "metadata": {
    "collapsed": false
   },
   "id": "83ba2bb494a0fe3"
  },
  {
   "cell_type": "code",
   "execution_count": null,
   "outputs": [],
   "source": [
    "global_max = max(df_all.max(axis=None), df_chemo.max(axis=None), df_chemo_pdl1.max(axis=None))\n",
    "global_min = min(df_all.min(axis=None), df_chemo.min(axis=None), df_chemo_pdl1.min(axis=None))\n",
    "\n",
    "order = df_all.index.values"
   ],
   "metadata": {
    "collapsed": false
   },
   "id": "71a9be1f715ed1fb"
  },
  {
   "cell_type": "code",
   "execution_count": null,
   "outputs": [],
   "source": [
    "_, ax = plt.subplots(figsize=(4, 3.5))\n",
    "sns.heatmap(df_all, annot=True, fmt=\".2f\", vmin=global_min, vmax=global_max, cmap=\"Reds\", ax=ax)\n",
    "plt.show()"
   ],
   "metadata": {
    "collapsed": false
   },
   "id": "639fc4374c3c77f8"
  },
  {
   "cell_type": "code",
   "execution_count": null,
   "outputs": [],
   "source": [
    "df_chemo = df_chemo.loc[order, order]\n",
    "_, ax = plt.subplots(figsize=(4, 3.5))\n",
    "sns.heatmap(df_chemo, annot=True, fmt=\".2f\", vmin=global_min, vmax=global_max, cmap=\"Reds\", ax=ax)\n",
    "plt.show()"
   ],
   "metadata": {
    "collapsed": false
   },
   "id": "520a35e736febfc8"
  },
  {
   "cell_type": "code",
   "execution_count": null,
   "outputs": [],
   "source": [
    "df_chemo_pdl1 = df_chemo_pdl1.loc[order, order]\n",
    "_, ax = plt.subplots(figsize=(4, 3.5))\n",
    "sns.heatmap(df_chemo_pdl1, annot=True, fmt=\".2f\", vmin=global_min, vmax=global_max, cmap=\"Reds\", ax=ax)\n",
    "plt.show()"
   ],
   "metadata": {
    "collapsed": false
   },
   "id": "6ccf6115cd8a1b35"
  },
  {
   "cell_type": "markdown",
   "source": [
    "## Identifying changes in cell type composition"
   ],
   "metadata": {
    "collapsed": false
   },
   "id": "d0e7efd01aa376a2"
  },
  {
   "cell_type": "code",
   "execution_count": null,
   "outputs": [],
   "source": [
    "# Get reference cell type\n",
    "sccoda_model = pt.tl.Sccoda()\n",
    "\n",
    "sccoda_data = sccoda_model.load(\n",
    "    adata,\n",
    "    type=\"cell_level\",\n",
    "    generate_sample_level=True,\n",
    "    cell_type_identifier=\"Cluster\",\n",
    "    sample_identifier=\"Sample\",\n",
    "    covariate_obs=[\"Group\"],\n",
    ")\n",
    "\n",
    "sccoda_data = sccoda_model.prepare(\n",
    "    sccoda_data,\n",
    "    modality_key=\"coda\",\n",
    "    formula=f\"Group\",\n",
    "    reference_cell_type=\"automatic\",\n",
    "    automatic_reference_absence_threshold=0.1,\n",
    ")"
   ],
   "metadata": {
    "collapsed": false
   },
   "id": "d8f55dbf27a8afb5"
  }
 ],
 "metadata": {
  "kernelspec": {
   "display_name": "Python 3",
   "language": "python",
   "name": "python3"
  },
  "language_info": {
   "codemirror_mode": {
    "name": "ipython",
    "version": 2
   },
   "file_extension": ".py",
   "mimetype": "text/x-python",
   "name": "python",
   "nbconvert_exporter": "python",
   "pygments_lexer": "ipython2",
   "version": "2.7.6"
  }
 },
 "nbformat": 4,
 "nbformat_minor": 5
}
